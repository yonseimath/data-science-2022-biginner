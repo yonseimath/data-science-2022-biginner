{
  "nbformat": 4,
  "nbformat_minor": 0,
  "metadata": {
    "colab": {
      "name": "convolusion.ipynb",
      "provenance": [],
      "authorship_tag": "ABX9TyNvPqQ69EG3cksW4nvkf/p0",
      "include_colab_link": true
    },
    "kernelspec": {
      "name": "python3",
      "display_name": "Python 3"
    },
    "language_info": {
      "name": "python"
    }
  },
  "cells": [
    {
      "cell_type": "markdown",
      "metadata": {
        "id": "view-in-github",
        "colab_type": "text"
      },
      "source": [
        "<a href=\"https://colab.research.google.com/github/yonseimath/data-science-2022-biginner/blob/feature%2Fyenakim/yenakim/convolusion.ipynb\" target=\"_parent\"><img src=\"https://colab.research.google.com/assets/colab-badge.svg\" alt=\"Open In Colab\"/></a>"
      ]
    },
    {
      "cell_type": "code",
      "source": [
        "import tensorflow as tf"
      ],
      "metadata": {
        "id": "qN7-cbva83Ru"
      },
      "execution_count": 1,
      "outputs": []
    },
    {
      "cell_type": "code",
      "source": [
        "from tensorflow import keras"
      ],
      "metadata": {
        "id": "95Z9PYLm88FK"
      },
      "execution_count": 2,
      "outputs": []
    },
    {
      "cell_type": "code",
      "source": [
        "(train_input, train_target), (test_input, test_target) = \\\n",
        "    keras.datasets.fashion_mnist.load_data()"
      ],
      "metadata": {
        "id": "2ZLxvD7a9Bwx",
        "colab": {
          "base_uri": "https://localhost:8080/"
        },
        "outputId": "4007b7b4-8e98-4379-b4b2-2556a2886575"
      },
      "execution_count": 20,
      "outputs": [
        {
          "output_type": "stream",
          "name": "stdout",
          "text": [
            "Downloading data from https://storage.googleapis.com/tensorflow/tf-keras-datasets/train-labels-idx1-ubyte.gz\n",
            "32768/29515 [=================================] - 0s 0us/step\n",
            "40960/29515 [=========================================] - 0s 0us/step\n",
            "Downloading data from https://storage.googleapis.com/tensorflow/tf-keras-datasets/train-images-idx3-ubyte.gz\n",
            "26427392/26421880 [==============================] - 0s 0us/step\n",
            "26435584/26421880 [==============================] - 0s 0us/step\n",
            "Downloading data from https://storage.googleapis.com/tensorflow/tf-keras-datasets/t10k-labels-idx1-ubyte.gz\n",
            "16384/5148 [===============================================================================================] - 0s 0us/step\n",
            "Downloading data from https://storage.googleapis.com/tensorflow/tf-keras-datasets/t10k-images-idx3-ubyte.gz\n",
            "4423680/4422102 [==============================] - 0s 0us/step\n",
            "4431872/4422102 [==============================] - 0s 0us/step\n"
          ]
        }
      ]
    },
    {
      "cell_type": "code",
      "source": [
        "ex = train_input[1]"
      ],
      "metadata": {
        "id": "nLO9l0UV-wN6"
      },
      "execution_count": 21,
      "outputs": []
    },
    {
      "cell_type": "code",
      "source": [
        "ex_scaled = ex / 255.0"
      ],
      "metadata": {
        "id": "g22kqrnY-3Mg"
      },
      "execution_count": 22,
      "outputs": []
    },
    {
      "cell_type": "code",
      "source": [
        "print(ex_scaled)"
      ],
      "metadata": {
        "colab": {
          "base_uri": "https://localhost:8080/"
        },
        "id": "-mDbG0HF_fkd",
        "outputId": "9245731e-2f14-4a2a-d1ad-fd993e803744"
      },
      "execution_count": 23,
      "outputs": [
        {
          "output_type": "stream",
          "name": "stdout",
          "text": [
            "[[0.         0.         0.         0.         0.         0.00392157\n",
            "  0.         0.         0.         0.         0.16078431 0.7372549\n",
            "  0.40392157 0.21176471 0.18823529 0.16862745 0.34117647 0.65882353\n",
            "  0.52156863 0.0627451  0.         0.         0.         0.\n",
            "  0.         0.         0.         0.        ]\n",
            " [0.         0.         0.         0.00392157 0.         0.\n",
            "  0.         0.19215686 0.53333333 0.85882353 0.84705882 0.89411765\n",
            "  0.9254902  1.         1.         1.         1.         0.85098039\n",
            "  0.84313725 0.99607843 0.90588235 0.62745098 0.17647059 0.\n",
            "  0.         0.         0.         0.        ]\n",
            " [0.         0.         0.         0.         0.         0.05490196\n",
            "  0.69019608 0.87058824 0.87843137 0.83137255 0.79607843 0.77647059\n",
            "  0.76862745 0.78431373 0.84313725 0.8        0.79215686 0.78823529\n",
            "  0.78823529 0.78823529 0.81960784 0.85490196 0.87843137 0.64313725\n",
            "  0.         0.         0.         0.        ]\n",
            " [0.         0.         0.         0.         0.         0.7372549\n",
            "  0.85882353 0.78431373 0.77647059 0.79215686 0.77647059 0.78039216\n",
            "  0.78039216 0.78823529 0.76862745 0.77647059 0.77647059 0.78431373\n",
            "  0.78431373 0.78431373 0.78431373 0.78823529 0.78431373 0.88235294\n",
            "  0.16078431 0.         0.         0.        ]\n",
            " [0.         0.         0.         0.         0.2        0.85882353\n",
            "  0.78039216 0.79607843 0.79607843 0.83137255 0.93333333 0.97254902\n",
            "  0.98039216 0.96078431 0.97647059 0.96470588 0.96862745 0.98823529\n",
            "  0.97254902 0.92156863 0.81176471 0.79607843 0.79607843 0.87058824\n",
            "  0.54901961 0.         0.         0.        ]\n",
            " [0.         0.         0.         0.         0.45490196 0.88627451\n",
            "  0.80784314 0.8        0.81176471 0.8        0.39607843 0.29411765\n",
            "  0.18431373 0.28627451 0.18823529 0.19607843 0.17647059 0.2\n",
            "  0.24705882 0.44313725 0.87058824 0.79215686 0.80784314 0.8627451\n",
            "  0.87843137 0.         0.         0.        ]\n",
            " [0.         0.         0.         0.         0.78431373 0.87058824\n",
            "  0.81960784 0.79607843 0.84313725 0.78431373 0.         0.2745098\n",
            "  0.38431373 0.         0.40392157 0.23137255 0.26666667 0.27843137\n",
            "  0.19215686 0.         0.85882353 0.80784314 0.83921569 0.82352941\n",
            "  0.98039216 0.14901961 0.         0.        ]\n",
            " [0.         0.         0.         0.         0.96862745 0.85490196\n",
            "  0.83137255 0.82352941 0.84313725 0.83921569 0.         0.99607843\n",
            "  0.95294118 0.54509804 1.         0.68235294 0.98431373 1.\n",
            "  0.80392157 0.         0.84313725 0.85098039 0.83921569 0.81568627\n",
            "  0.8627451  0.37254902 0.         0.        ]\n",
            " [0.         0.         0.         0.17647059 0.88627451 0.83921569\n",
            "  0.83921569 0.84313725 0.87843137 0.80392157 0.         0.16470588\n",
            "  0.1372549  0.23529412 0.0627451  0.06666667 0.04705882 0.05098039\n",
            "  0.2745098  0.         0.74117647 0.84705882 0.83137255 0.80784314\n",
            "  0.83137255 0.61176471 0.         0.        ]\n",
            " [0.         0.         0.         0.64313725 0.92156863 0.83921569\n",
            "  0.82745098 0.8627451  0.84705882 0.78823529 0.20392157 0.27843137\n",
            "  0.34901961 0.36862745 0.3254902  0.30588235 0.2745098  0.29803922\n",
            "  0.36078431 0.34117647 0.80784314 0.81176471 0.87058824 0.83529412\n",
            "  0.85882353 0.81568627 0.         0.        ]\n",
            " [0.         0.         0.         0.41568627 0.73333333 0.8745098\n",
            "  0.92941176 0.97254902 0.82745098 0.77647059 0.98823529 0.98039216\n",
            "  0.97254902 0.96078431 0.97254902 0.98823529 0.99215686 0.98039216\n",
            "  0.98823529 0.9372549  0.78823529 0.83137255 0.88235294 0.84313725\n",
            "  0.75686275 0.44313725 0.         0.        ]\n",
            " [0.         0.         0.         0.         0.         0.06666667\n",
            "  0.21176471 0.62352941 0.87058824 0.75686275 0.81568627 0.75294118\n",
            "  0.77254902 0.78431373 0.78431373 0.78431373 0.78431373 0.78823529\n",
            "  0.79607843 0.76470588 0.82352941 0.64705882 0.         0.\n",
            "  0.         0.         0.         0.        ]\n",
            " [0.         0.         0.         0.         0.         0.\n",
            "  0.         0.18431373 0.88235294 0.75294118 0.83921569 0.79607843\n",
            "  0.80784314 0.8        0.8        0.80392157 0.80784314 0.8\n",
            "  0.83137255 0.77254902 0.85490196 0.41960784 0.         0.\n",
            "  0.         0.         0.         0.        ]\n",
            " [0.         0.         0.         0.         0.00392157 0.02352941\n",
            "  0.         0.18039216 0.83137255 0.76470588 0.83137255 0.79215686\n",
            "  0.80784314 0.80392157 0.8        0.80392157 0.80784314 0.8\n",
            "  0.83137255 0.78431373 0.85490196 0.35686275 0.         0.01176471\n",
            "  0.00392157 0.         0.         0.        ]\n",
            " [0.         0.         0.         0.         0.         0.00392157\n",
            "  0.         0.04313725 0.77254902 0.78039216 0.80392157 0.79215686\n",
            "  0.80392157 0.80784314 0.8        0.80392157 0.81176471 0.8\n",
            "  0.80392157 0.80392157 0.85490196 0.30196078 0.         0.01960784\n",
            "  0.         0.         0.         0.        ]\n",
            " [0.         0.         0.         0.         0.         0.01176471\n",
            "  0.         0.00784314 0.74901961 0.77647059 0.78823529 0.80392157\n",
            "  0.80784314 0.80392157 0.80392157 0.80784314 0.81960784 0.80784314\n",
            "  0.78039216 0.81960784 0.85882353 0.29019608 0.         0.01960784\n",
            "  0.         0.         0.         0.        ]\n",
            " [0.         0.         0.         0.         0.         0.00784314\n",
            "  0.         0.         0.7372549  0.77254902 0.78431373 0.81176471\n",
            "  0.81176471 0.8        0.81176471 0.81176471 0.82352941 0.81568627\n",
            "  0.77647059 0.81176471 0.86666667 0.28235294 0.         0.01568627\n",
            "  0.         0.         0.         0.        ]\n",
            " [0.         0.         0.         0.         0.         0.00784314\n",
            "  0.         0.         0.84313725 0.77647059 0.79607843 0.80784314\n",
            "  0.81568627 0.80392157 0.81176471 0.81176471 0.82352941 0.81568627\n",
            "  0.78431373 0.79215686 0.87058824 0.29411765 0.         0.01568627\n",
            "  0.         0.         0.         0.        ]\n",
            " [0.         0.         0.         0.         0.         0.00392157\n",
            "  0.         0.         0.83137255 0.77647059 0.81960784 0.80784314\n",
            "  0.81960784 0.80784314 0.81568627 0.81176471 0.82745098 0.80784314\n",
            "  0.80392157 0.77647059 0.86666667 0.31372549 0.         0.01176471\n",
            "  0.         0.         0.         0.        ]\n",
            " [0.         0.         0.         0.         0.         0.00392157\n",
            "  0.         0.         0.8        0.78823529 0.80392157 0.81568627\n",
            "  0.81176471 0.80392157 0.82745098 0.80392157 0.82352941 0.82352941\n",
            "  0.81960784 0.76470588 0.86666667 0.37647059 0.         0.01176471\n",
            "  0.         0.         0.         0.        ]\n",
            " [0.         0.         0.         0.         0.         0.00392157\n",
            "  0.         0.         0.79215686 0.78823529 0.80392157 0.81960784\n",
            "  0.81176471 0.80392157 0.83529412 0.80784314 0.82352941 0.81960784\n",
            "  0.82352941 0.76078431 0.85098039 0.41176471 0.         0.00784314\n",
            "  0.         0.         0.         0.        ]\n",
            " [0.         0.         0.         0.         0.         0.00392157\n",
            "  0.         0.         0.8        0.8        0.80392157 0.81568627\n",
            "  0.81176471 0.80392157 0.84313725 0.81176471 0.82352941 0.81568627\n",
            "  0.82745098 0.75686275 0.83529412 0.45098039 0.         0.00784314\n",
            "  0.         0.         0.         0.        ]\n",
            " [0.         0.         0.         0.         0.         0.\n",
            "  0.         0.         0.8        0.81176471 0.81176471 0.81568627\n",
            "  0.80784314 0.80784314 0.84313725 0.82352941 0.82352941 0.81176471\n",
            "  0.83137255 0.76470588 0.82352941 0.4627451  0.         0.00784314\n",
            "  0.         0.         0.         0.        ]\n",
            " [0.         0.         0.         0.         0.         0.00392157\n",
            "  0.         0.         0.77647059 0.81568627 0.81568627 0.81568627\n",
            "  0.8        0.81176471 0.83137255 0.83137255 0.82352941 0.81176471\n",
            "  0.82745098 0.76862745 0.81176471 0.4745098  0.         0.00392157\n",
            "  0.         0.         0.         0.        ]\n",
            " [0.         0.         0.         0.         0.         0.00392157\n",
            "  0.         0.         0.77647059 0.82352941 0.81176471 0.81568627\n",
            "  0.80784314 0.81960784 0.83529412 0.83137255 0.82745098 0.81176471\n",
            "  0.82352941 0.77254902 0.81176471 0.48627451 0.         0.00392157\n",
            "  0.         0.         0.         0.        ]\n",
            " [0.         0.         0.         0.         0.         0.\n",
            "  0.         0.         0.6745098  0.82352941 0.79607843 0.78823529\n",
            "  0.78039216 0.8        0.81176471 0.80392157 0.8        0.78823529\n",
            "  0.80392157 0.77254902 0.80784314 0.49803922 0.         0.\n",
            "  0.         0.         0.         0.        ]\n",
            " [0.         0.         0.         0.         0.         0.\n",
            "  0.         0.         0.7372549  0.86666667 0.83921569 0.91764706\n",
            "  0.9254902  0.93333333 0.95686275 0.95686275 0.95686275 0.94117647\n",
            "  0.95294118 0.83921569 0.87843137 0.63529412 0.         0.00784314\n",
            "  0.         0.         0.         0.        ]\n",
            " [0.         0.         0.         0.         0.         0.00392157\n",
            "  0.         0.         0.54509804 0.57254902 0.50980392 0.52941176\n",
            "  0.52941176 0.5372549  0.49019608 0.48627451 0.49019608 0.4745098\n",
            "  0.46666667 0.44705882 0.50980392 0.29803922 0.         0.\n",
            "  0.         0.         0.         0.        ]]\n"
          ]
        }
      ]
    },
    {
      "cell_type": "code",
      "source": [
        "import matplotlib.pyplot as plt"
      ],
      "metadata": {
        "id": "6VMJiYRx9EJ_"
      },
      "execution_count": 24,
      "outputs": []
    },
    {
      "cell_type": "code",
      "source": [
        "plt.imshow(ex_scaled, cmap='gray_r')\n",
        "plt.show()"
      ],
      "metadata": {
        "colab": {
          "base_uri": "https://localhost:8080/",
          "height": 265
        },
        "id": "B8qg8TGH9WW_",
        "outputId": "039cafed-eaa7-4b86-eccb-676c201b3c57"
      },
      "execution_count": 25,
      "outputs": [
        {
          "output_type": "display_data",
          "data": {
            "text/plain": [
              "<Figure size 432x288 with 1 Axes>"
            ],
            "image/png": "[encoded data removed]"
          },
          "metadata": {
            "needs_background": "light"
          }
        }
      ]
    },
    {
      "cell_type": "code",
      "source": [
        "import numpy as np"
      ],
      "metadata": {
        "id": "44pfJd9mAUhP"
      },
      "execution_count": 26,
      "outputs": []
    },
    {
      "cell_type": "code",
      "source": [
        "filter = np.array([[0,0,0],[1,1,1],[0.5,0.5,0.5]])"
      ],
      "metadata": {
        "id": "eGb770Lv_mlg"
      },
      "execution_count": 27,
      "outputs": []
    },
    {
      "cell_type": "code",
      "source": [
        "plt.imshow(filter, cmap='gray')\n",
        "plt.show()"
      ],
      "metadata": {
        "colab": {
          "base_uri": "https://localhost:8080/",
          "height": 269
        },
        "id": "ndfhmIZkAq1H",
        "outputId": "b21bca34-3565-4b71-cb50-7711470d1f85"
      },
      "execution_count": 28,
      "outputs": [
        {
          "output_type": "display_data",
          "data": {
            "text/plain": [
              "<Figure size 432x288 with 1 Axes>"
            ],
            "image/png": "[encoded data removed]"
          },
          "metadata": {
            "needs_background": "light"
          }
        }
      ]
    },
    {
      "cell_type": "code",
      "source": [
        "filter = np.array([[-1,-1,-1],[1,1,1],[0,0,0]])"
      ],
      "metadata": {
        "id": "obo-OPUoBov1"
      },
      "execution_count": 29,
      "outputs": []
    },
    {
      "cell_type": "code",
      "source": [
        "plt.imshow(filter, cmap='gray')\n",
        "plt.show()"
      ],
      "metadata": {
        "colab": {
          "base_uri": "https://localhost:8080/",
          "height": 269
        },
        "id": "lj7SjxOdCNSF",
        "outputId": "880b2023-82bf-40f7-d2af-5bafe150da13"
      },
      "execution_count": 30,
      "outputs": [
        {
          "output_type": "display_data",
          "data": {
            "text/plain": [
              "<Figure size 432x288 with 1 Axes>"
            ],
            "image/png": "[encoded data removed]"
          },
          "metadata": {
            "needs_background": "light"
          }
        }
      ]
    },
    {
      "cell_type": "code",
      "source": [
        "filter_1 = np.array([[-1,-1,-1],[1,1,1],[0,0,0]])\n",
        "filter_2 = np.array([[-1,1,0],[-1,1,0],[-1,1,0]])\n",
        "filter_3 = np.array([[0,0,0],[1,1,1],[-1,-1,-1]])\n",
        "filter_4 = np.array([[0,1,-1],[0,1,-1],[0,1,-1]])"
      ],
      "metadata": {
        "id": "drhm2m5KCOZA"
      },
      "execution_count": 31,
      "outputs": []
    },
    {
      "cell_type": "code",
      "source": [
        "plt.subplot(1, 4, 1)\n",
        "plt.imshow(filter_1, cmap='gray')\n",
        "plt.title('filter 1')\n",
        "\n",
        "plt.subplot(1, 4, 2)\n",
        "plt.imshow(filter_2, cmap='gray')\n",
        "plt.title('filter 2')\n",
        "\n",
        "plt.subplot(1, 4, 3)\n",
        "plt.imshow(filter_3, cmap='gray')\n",
        "plt.title('filter 3')\n",
        "\n",
        "plt.subplot(1, 4, 4)\n",
        "plt.imshow(filter_4, cmap='gray')\n",
        "plt.title('filter 4')\n",
        "\n",
        "plt.tight_layout()\n",
        "plt.show()"
      ],
      "metadata": {
        "colab": {
          "base_uri": "https://localhost:8080/",
          "height": 145
        },
        "id": "-v6vEbmkEM64",
        "outputId": "882b4236-116b-4375-e922-e0353d37c39a"
      },
      "execution_count": 32,
      "outputs": [
        {
          "output_type": "display_data",
          "data": {
            "text/plain": [
              "<Figure size 432x288 with 4 Axes>"
            ],
            "image/png": "[encoded data removed]"
          },
          "metadata": {
            "needs_background": "light"
          }
        }
      ]
    },
    {
      "cell_type": "code",
      "source": [
        "ex_scaled.shape"
      ],
      "metadata": {
        "colab": {
          "base_uri": "https://localhost:8080/"
        },
        "id": "0msEVyuLJkc2",
        "outputId": "ecd1d159-c28c-4a95-f92f-191b3b3b9bfa"
      },
      "execution_count": 33,
      "outputs": [
        {
          "output_type": "execute_result",
          "data": {
            "text/plain": [
              "(28, 28)"
            ]
          },
          "metadata": {},
          "execution_count": 33
        }
      ]
    },
    {
      "cell_type": "code",
      "source": [
        "def conv(X, filter):\n",
        "  out = np.zeros((25, 25))\n",
        "  for h in range(25):\n",
        "    h_start = h\n",
        "    h_end = h_start + 3\n",
        "    for w in range(25):\n",
        "      w_start = w\n",
        "      w_end = w_start + 3\n",
        "      out[h, w] = np.sum(X[h_start:h_end, w_start:w_end] * filter)\n",
        "  return out"
      ],
      "metadata": {
        "id": "d9cz_SHtHpAX"
      },
      "execution_count": 34,
      "outputs": []
    },
    {
      "cell_type": "code",
      "source": [
        "result_1 = conv(ex_scaled, filter_1)\n",
        "result_2 = conv(ex_scaled, filter_2)\n",
        "result_3 = conv(ex_scaled, filter_3)\n",
        "result_4 = conv(ex_scaled, filter_4)"
      ],
      "metadata": {
        "id": "RMwAvnOvKM4U"
      },
      "execution_count": 35,
      "outputs": []
    },
    {
      "cell_type": "code",
      "source": [
        "plt.subplot(1, 5, 1)\n",
        "plt.imshow(result_1, cmap='gray')\n",
        "plt.title('filter 1')\n",
        "\n",
        "plt.subplot(1, 5, 2)\n",
        "plt.imshow(result_2, cmap='gray')\n",
        "plt.title('filter 2')\n",
        "\n",
        "plt.subplot(1, 5, 3)\n",
        "plt.imshow(result_3, cmap='gray')\n",
        "plt.title('filter 3')\n",
        "\n",
        "plt.subplot(1, 5, 4)\n",
        "plt.imshow(result_4, cmap='gray')\n",
        "plt.title('filter 4')\n",
        "\n",
        "plt.subplot(1, 5, 5)\n",
        "plt.imshow(ex_scaled, cmap='gray_r')\n",
        "plt.title('original')\n",
        "\n",
        "plt.tight_layout()\n",
        "plt.show()"
      ],
      "metadata": {
        "colab": {
          "base_uri": "https://localhost:8080/",
          "height": 117
        },
        "id": "2zbqzIEcKk7t",
        "outputId": "62b19ec4-90dc-4884-90a1-fd467881edc3"
      },
      "execution_count": 38,
      "outputs": [
        {
          "output_type": "display_data",
          "data": {
            "text/plain": [
              "<Figure size 432x288 with 5 Axes>"
            ],
            "image/png": "[encoded data removed]"
          },
          "metadata": {
            "needs_background": "light"
          }
        }
      ]
    },
    {
      "cell_type": "code",
      "source": [
        ""
      ],
      "metadata": {
        "id": "M0tTSgL9Ktbj"
      },
      "execution_count": 36,
      "outputs": []
    }
  ]
}