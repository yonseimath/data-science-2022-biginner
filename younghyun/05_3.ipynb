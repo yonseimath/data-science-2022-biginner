{
 "cells": [
  {
   "cell_type": "markdown",
   "metadata": {
    "id": "zp6fW8MP-mrO"
   },
   "source": [
    "# 트리의 앙상블"
   ]
  },
  {
   "cell_type": "markdown",
   "metadata": {
    "id": "dIaIAizcRSG-"
   },
   "source": [
    "## 랜덤포레스트\n",
    "정형 데이터를 다루는 데에 가장 뛰어난 성과를 내는 알고리즘을 앙상블 학습이라고 합니다.  \n",
    "랜덤 포레스트는 앙상블 학습 중 하나로, 안정적인 성능을 보여줍니다.  \n",
    "랜덤 포레스트에서는 결정트리를 랜덤하게 만들어 다수의 결정트리를 모은 후 분류 또는 평균 예측치를 출력합니다.  \n",
    "샘플 데이터에서 랜덤하게 추출하여 훈련데이터를 만드는데, 이렇게 만들어진 샘플을 부트스트랩 샘플이라고 하고 훈련세트의 크기와 같게 만들어집니다.  \n",
    "<br/>\n",
    "RandomForestClassifier 클래스를 화이트 와인을 분류하는 문제에 적용해보겠습니다. "
   ]
  },
  {
   "cell_type": "code",
   "execution_count": 1,
   "metadata": {
    "id": "ioJUlZ0M_uSZ"
   },
   "outputs": [],
   "source": [
    "import numpy as np\n",
    "import pandas as pd\n",
    "from sklearn.model_selection import train_test_split\n",
    "\n",
    "wine = pd.read_csv('https://bit.ly/wine_csv_data')\n",
    "\n",
    "data = wine[['alcohol', 'sugar', 'pH']].to_numpy()\n",
    "target = wine['class'].to_numpy()\n",
    "\n",
    "train_input, test_input, train_target, test_target = train_test_split(data, target, test_size=0.2, random_state=42)"
   ]
  },
  {
   "cell_type": "markdown",
   "metadata": {},
   "source": [
    "cross_validate를 사용하여 교차검증을 수행합니다."
   ]
  },
  {
   "cell_type": "code",
   "execution_count": 2,
   "metadata": {
    "colab": {
     "base_uri": "https://localhost:8080/"
    },
    "id": "JDKQudr7_8nu",
    "outputId": "91033069-881d-4b8e-fe74-3f257adee340"
   },
   "outputs": [
    {
     "name": "stdout",
     "output_type": "stream",
     "text": [
      "0.9973541965122431 0.8905151032797809\n"
     ]
    }
   ],
   "source": [
    "from sklearn.model_selection import cross_validate\n",
    "from sklearn.ensemble import RandomForestClassifier\n",
    "\n",
    "rf = RandomForestClassifier(n_jobs=-1, random_state=42)\n",
    "scores = cross_validate(rf, train_input, train_target, return_train_score=True, n_jobs=-1)\n",
    "\n",
    "print(np.mean(scores['train_score']), np.mean(scores['test_score']))"
   ]
  },
  {
   "cell_type": "markdown",
   "metadata": {},
   "source": [
    "앞의 랜덤 포레스트 모델을 훈련세트에 fit 한 후 특성 중요도를 출력해봅니다."
   ]
  },
  {
   "cell_type": "code",
   "execution_count": 3,
   "metadata": {
    "colab": {
     "base_uri": "https://localhost:8080/"
    },
    "id": "XYDbzXNLG8fK",
    "outputId": "cb099fcb-d0e4-47d6-afcc-50603903b072"
   },
   "outputs": [
    {
     "name": "stdout",
     "output_type": "stream",
     "text": [
      "[0.23167441 0.50039841 0.26792718]\n"
     ]
    }
   ],
   "source": [
    "rf.fit(train_input, train_target)\n",
    "print(rf.feature_importances_)"
   ]
  },
  {
   "cell_type": "markdown",
   "metadata": {},
   "source": [
    "랜덤 포레스트는 자체적으로 점수를 매기는 기능이 있습니다. 부트스트랩에 사용되지 않은 나머지 데이터를 사용하여 평가를 내릴 수 있습니다. 이를 oob 샘플이라고 합니다. 이를 사용하기 위해서는 모델에 oob_score=True를 지정해주면 됩니다."
   ]
  },
  {
   "cell_type": "code",
   "execution_count": 4,
   "metadata": {
    "colab": {
     "base_uri": "https://localhost:8080/"
    },
    "id": "oMc06S1Fa_A-",
    "outputId": "6ffc1c75-f649-46ab-d982-8bbb1cb094f6"
   },
   "outputs": [
    {
     "name": "stdout",
     "output_type": "stream",
     "text": [
      "0.8934000384837406\n"
     ]
    }
   ],
   "source": [
    "rf = RandomForestClassifier(oob_score=True, n_jobs=-1, random_state=42)\n",
    "\n",
    "rf.fit(train_input, train_target)\n",
    "print(rf.oob_score_)"
   ]
  },
  {
   "cell_type": "markdown",
   "metadata": {},
   "source": [
    "oob 샘플을 사용함으로써 훈련세트에 더 많은 샘플을 사용할 수 있습니다."
   ]
  },
  {
   "cell_type": "markdown",
   "metadata": {
    "id": "KdrVoeQZRU14"
   },
   "source": [
    "## 엑스트라트리"
   ]
  },
  {
   "cell_type": "markdown",
   "metadata": {},
   "source": [
    "엑스트라 트리와 랜덤 포레스트의 차이점은 엑스트라트리에서는 부트스트랩을 사용하지 않는다는 것입니다. 결정트리를 만들 때 전체 훈련 세트를 사용합니다. 다만 노드를 분할할 때 무작위로 분할합니다. 성능이 낮아질 수 있으나 많은 트리를 앙상블하기 때문에 과대적합을 막고 검증세트의 점수를 높이는 효과가 있습니다.  \n",
    "ExtraTreesClassifier을 사용하여 교차검증 점수를 확인합니다."
   ]
  },
  {
   "cell_type": "code",
   "execution_count": 5,
   "metadata": {
    "colab": {
     "base_uri": "https://localhost:8080/"
    },
    "id": "noMLdywdOGrE",
    "outputId": "821d4676-0cfc-4622-c3eb-f451f27f88e6"
   },
   "outputs": [
    {
     "name": "stdout",
     "output_type": "stream",
     "text": [
      "0.9974503966084433 0.8887848893166506\n"
     ]
    }
   ],
   "source": [
    "from sklearn.ensemble import ExtraTreesClassifier\n",
    "\n",
    "et = ExtraTreesClassifier(n_jobs=-1, random_state=42)\n",
    "scores = cross_validate(et, train_input, train_target, return_train_score=True, n_jobs=-1)\n",
    "\n",
    "print(np.mean(scores['train_score']), np.mean(scores['test_score']))"
   ]
  },
  {
   "cell_type": "markdown",
   "metadata": {},
   "source": [
    "보통 엑스트라트리가 무작위성이 더 크기 때문에 랜덤 포레스트보다 더 많은 결정트리를 훈련해야 하지만, 랜덤하게 분할하기 때문에 계산속도가 빠르다는 것이 장점입니다. 결정트리에서 최적의 분할을 찾는데에 많은 시간을 소요하기 때문에 무작위로 나눌 시에 훨씬 빨리 트리를 구성할 수 있습니다.  \n",
    "엑스트라 트리에서도 특성 중요도를 출력해보겠습니다."
   ]
  },
  {
   "cell_type": "code",
   "execution_count": 6,
   "metadata": {
    "colab": {
     "base_uri": "https://localhost:8080/"
    },
    "id": "HnB0_mBqfcXL",
    "outputId": "a95a7542-4aae-4e52-dddf-0f0560505631"
   },
   "outputs": [
    {
     "name": "stdout",
     "output_type": "stream",
     "text": [
      "[0.20183568 0.52242907 0.27573525]\n"
     ]
    }
   ],
   "source": [
    "et.fit(train_input, train_target)\n",
    "print(et.feature_importances_)"
   ]
  },
  {
   "cell_type": "markdown",
   "metadata": {
    "id": "csKxnaxeRX8s"
   },
   "source": [
    "## 그레이디언트 부스팅"
   ]
  },
  {
   "cell_type": "markdown",
   "metadata": {},
   "source": [
    "그레이디언트 부스팅은 깊이가 얕은 결정트리를 사용하여 이전 트리의 오차를 보완하는 방식으로 앙상블한다고 합니다.  \n",
    "깊이가 얕은 결정 트리를 사용하기 때문에 과대적합에 강하고 일반적으로 높은 일반화 성능을 기대할 수 있습니다.  "
   ]
  },
  {
   "cell_type": "code",
   "execution_count": 7,
   "metadata": {
    "colab": {
     "base_uri": "https://localhost:8080/"
    },
    "id": "_IlNEFkaNsoG",
    "outputId": "95fa643b-e8e4-4e93-effe-c5e7c5413960"
   },
   "outputs": [
    {
     "name": "stdout",
     "output_type": "stream",
     "text": [
      "0.8881086892152563 0.8720430147331015\n"
     ]
    }
   ],
   "source": [
    "from sklearn.ensemble import GradientBoostingClassifier\n",
    "\n",
    "gb = GradientBoostingClassifier(random_state=42)\n",
    "scores = cross_validate(gb, train_input, train_target, return_train_score=True, n_jobs=-1)\n",
    "\n",
    "print(np.mean(scores['train_score']), np.mean(scores['test_score']))"
   ]
  },
  {
   "cell_type": "markdown",
   "metadata": {},
   "source": [
    "과대적합이 거의 되지 않은 것을 확인할 수 있습니다. 학습률을 증가시키고 트리의 갯수를 늘려보겠습니다. \n",
    "트리의 갯수는 n_estimators, 학습률은 learning_rate로 지정할 수 있습니다."
   ]
  },
  {
   "cell_type": "code",
   "execution_count": 8,
   "metadata": {
    "colab": {
     "base_uri": "https://localhost:8080/"
    },
    "id": "pNpeS8EWpeEi",
    "outputId": "0bb5e9f8-7744-4a66-99a9-4efe78d26408"
   },
   "outputs": [
    {
     "name": "stdout",
     "output_type": "stream",
     "text": [
      "0.9464595437171814 0.8780082549788999\n"
     ]
    }
   ],
   "source": [
    "gb = GradientBoostingClassifier(n_estimators=500, learning_rate=0.2, random_state=42)\n",
    "scores = cross_validate(gb, train_input, train_target, return_train_score=True, n_jobs=-1)\n",
    "\n",
    "print(np.mean(scores['train_score']), np.mean(scores['test_score']))"
   ]
  },
  {
   "cell_type": "markdown",
   "metadata": {},
   "source": [
    "그레이디언트 부스팅에서도 특성 중요도를 알아봅니다."
   ]
  },
  {
   "cell_type": "code",
   "execution_count": 9,
   "metadata": {
    "colab": {
     "base_uri": "https://localhost:8080/"
    },
    "id": "qD6iWVsGqCAE",
    "outputId": "6bd3a2dc-ac93-46dc-e5ce-233844355e42"
   },
   "outputs": [
    {
     "name": "stdout",
     "output_type": "stream",
     "text": [
      "[0.15872278 0.68010884 0.16116839]\n"
     ]
    }
   ],
   "source": [
    "gb.fit(train_input, train_target)\n",
    "print(gb.feature_importances_)"
   ]
  },
  {
   "cell_type": "markdown",
   "metadata": {},
   "source": [
    "일반적으로 그레이디언트 부스팅이 랜덤 포레스트보다 성능이 더 좋지만, 속도가 느리다는 단점이 있습니다.  \n",
    "그레이디언트 부스팅의 속도와 성능을 개선한 것이 히스토그램 기반 그레이디언트 부스팅입니다."
   ]
  },
  {
   "cell_type": "markdown",
   "metadata": {
    "id": "BthW_II9RbLa"
   },
   "source": [
    "## 히스토그램 기반 그레이디언트 부스팅"
   ]
  },
  {
   "cell_type": "markdown",
   "metadata": {},
   "source": [
    "히스토그램 기반 그레이디언트 부스팅은 입력 특성을 256 구간으로 나눈 후 노드를 분할할 때 최적을 분할을 빨리 찾을 수 있는 것입니다.  "
   ]
  },
  {
   "cell_type": "code",
   "execution_count": 11,
   "metadata": {
    "colab": {
     "base_uri": "https://localhost:8080/"
    },
    "id": "_3Ct_NNWQbdA",
    "outputId": "eb153285-251c-480e-a27a-9b334fa83394"
   },
   "outputs": [
    {
     "name": "stdout",
     "output_type": "stream",
     "text": [
      "0.9321723946453317 0.8801241948619236\n"
     ]
    }
   ],
   "source": [
    "from sklearn.experimental import enable_hist_gradient_boosting\n",
    "from sklearn.ensemble import HistGradientBoostingClassifier\n",
    "\n",
    "hgb = HistGradientBoostingClassifier(random_state=42)\n",
    "scores = cross_validate(hgb, train_input, train_target, return_train_score=True, n_jobs=-1)\n",
    "\n",
    "print(np.mean(scores['train_score']), np.mean(scores['test_score']))"
   ]
  },
  {
   "cell_type": "markdown",
   "metadata": {},
   "source": [
    "과대적합을 억제하는 장점을 잘 지키면서 더 높은 성능이 나옴을 알 수 있습니다.  \n",
    "훈련 세트에서의 특성 중요도를 계산해보겠습니다. "
   ]
  },
  {
   "cell_type": "code",
   "execution_count": 12,
   "metadata": {
    "colab": {
     "base_uri": "https://localhost:8080/"
    },
    "id": "TvlB0GMTS3hn",
    "outputId": "0ae9b5d3-3067-47f6-be58-a6dbed4efe0c"
   },
   "outputs": [
    {
     "name": "stdout",
     "output_type": "stream",
     "text": [
      "[0.08876275 0.23438522 0.08027708]\n"
     ]
    }
   ],
   "source": [
    "from sklearn.inspection import permutation_importance\n",
    "\n",
    "hgb.fit(train_input, train_target)\n",
    "result = permutation_importance(hgb, train_input, train_target, n_repeats=10,\n",
    "                                random_state=42, n_jobs=-1)\n",
    "print(result.importances_mean)"
   ]
  },
  {
   "cell_type": "markdown",
   "metadata": {},
   "source": [
    "이제 테스트세트에서의 중요도를 계산해보겠습니다."
   ]
  },
  {
   "cell_type": "code",
   "execution_count": 13,
   "metadata": {
    "colab": {
     "base_uri": "https://localhost:8080/"
    },
    "id": "S8FfxInn-xBQ",
    "outputId": "23805528-ee9b-4469-d172-0d263948361b"
   },
   "outputs": [
    {
     "name": "stdout",
     "output_type": "stream",
     "text": [
      "[0.05969231 0.20238462 0.049     ]\n"
     ]
    }
   ],
   "source": [
    "result = permutation_importance(hgb, test_input, test_target, n_repeats=10,\n",
    "                                random_state=42, n_jobs=-1)\n",
    "print(result.importances_mean)"
   ]
  },
  {
   "cell_type": "markdown",
   "metadata": {},
   "source": [
    "그리고 테스트 세트에서의 성능을 확인합니다."
   ]
  },
  {
   "cell_type": "code",
   "execution_count": 14,
   "metadata": {
    "colab": {
     "base_uri": "https://localhost:8080/"
    },
    "id": "pqplZjh0j2nw",
    "outputId": "f4fa41ce-782f-40ce-f5fc-279f76b6c34b"
   },
   "outputs": [
    {
     "data": {
      "text/plain": [
       "0.8723076923076923"
      ]
     },
     "execution_count": 14,
     "metadata": {},
     "output_type": "execute_result"
    }
   ],
   "source": [
    "hgb.score(test_input, test_target)"
   ]
  },
  {
   "cell_type": "markdown",
   "metadata": {
    "id": "8fz_FrezBezR"
   },
   "source": [
    "#### XGBoost"
   ]
  },
  {
   "cell_type": "markdown",
   "metadata": {},
   "source": [
    "히스토그램 기반 그레이디언트 부스팅 알고리즘을 구현한 다른 라이브러리인 XGBoost를 사용해서도 구현해보겠습니다."
   ]
  },
  {
   "cell_type": "code",
   "execution_count": 15,
   "metadata": {
    "colab": {
     "base_uri": "https://localhost:8080/"
    },
    "id": "YBYLvOiV6rga",
    "outputId": "eac4a826-83bd-4ebe-944c-6e8b9e9e4575"
   },
   "outputs": [
    {
     "name": "stdout",
     "output_type": "stream",
     "text": [
      "0.9555033709953124 0.8799326275264677\n"
     ]
    }
   ],
   "source": [
    "from xgboost import XGBClassifier\n",
    "\n",
    "xgb = XGBClassifier(tree_method='hist', random_state=42)\n",
    "scores = cross_validate(xgb, train_input, train_target, return_train_score=True, n_jobs=-1)\n",
    "\n",
    "print(np.mean(scores['train_score']), np.mean(scores['test_score']))"
   ]
  }
 ],
 "metadata": {
  "colab": {
   "collapsed_sections": [],
   "name": "05_3.ipynb",
   "provenance": []
  },
  "kernelspec": {
   "display_name": "Python 3 (ipykernel)",
   "language": "python",
   "name": "python3"
  },
  "language_info": {
   "codemirror_mode": {
    "name": "ipython",
    "version": 3
   },
   "file_extension": ".py",
   "mimetype": "text/x-python",
   "name": "python",
   "nbconvert_exporter": "python",
   "pygments_lexer": "ipython3",
   "version": "3.9.7"
  }
 },
 "nbformat": 4,
 "nbformat_minor": 1
}
