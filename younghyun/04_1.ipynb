{
 "cells": [
  {
   "cell_type": "markdown",
   "id": "342f24a9",
   "metadata": {},
   "source": [
    "## 로지스틱 회귀\n"
   ]
  },
  {
   "cell_type": "code",
   "execution_count": 1,
   "id": "8bfd1e6d",
   "metadata": {},
   "outputs": [
    {
     "data": {
      "text/html": [
       "<div>\n",
       "<style scoped>\n",
       "    .dataframe tbody tr th:only-of-type {\n",
       "        vertical-align: middle;\n",
       "    }\n",
       "\n",
       "    .dataframe tbody tr th {\n",
       "        vertical-align: top;\n",
       "    }\n",
       "\n",
       "    .dataframe thead th {\n",
       "        text-align: right;\n",
       "    }\n",
       "</style>\n",
       "<table border=\"1\" class=\"dataframe\">\n",
       "  <thead>\n",
       "    <tr style=\"text-align: right;\">\n",
       "      <th></th>\n",
       "      <th>Species</th>\n",
       "      <th>Weight</th>\n",
       "      <th>Length</th>\n",
       "      <th>Diagonal</th>\n",
       "      <th>Height</th>\n",
       "      <th>Width</th>\n",
       "    </tr>\n",
       "  </thead>\n",
       "  <tbody>\n",
       "    <tr>\n",
       "      <th>0</th>\n",
       "      <td>Bream</td>\n",
       "      <td>242.0</td>\n",
       "      <td>25.4</td>\n",
       "      <td>30.0</td>\n",
       "      <td>11.5200</td>\n",
       "      <td>4.0200</td>\n",
       "    </tr>\n",
       "    <tr>\n",
       "      <th>1</th>\n",
       "      <td>Bream</td>\n",
       "      <td>290.0</td>\n",
       "      <td>26.3</td>\n",
       "      <td>31.2</td>\n",
       "      <td>12.4800</td>\n",
       "      <td>4.3056</td>\n",
       "    </tr>\n",
       "    <tr>\n",
       "      <th>2</th>\n",
       "      <td>Bream</td>\n",
       "      <td>340.0</td>\n",
       "      <td>26.5</td>\n",
       "      <td>31.1</td>\n",
       "      <td>12.3778</td>\n",
       "      <td>4.6961</td>\n",
       "    </tr>\n",
       "    <tr>\n",
       "      <th>3</th>\n",
       "      <td>Bream</td>\n",
       "      <td>363.0</td>\n",
       "      <td>29.0</td>\n",
       "      <td>33.5</td>\n",
       "      <td>12.7300</td>\n",
       "      <td>4.4555</td>\n",
       "    </tr>\n",
       "    <tr>\n",
       "      <th>4</th>\n",
       "      <td>Bream</td>\n",
       "      <td>430.0</td>\n",
       "      <td>29.0</td>\n",
       "      <td>34.0</td>\n",
       "      <td>12.4440</td>\n",
       "      <td>5.1340</td>\n",
       "    </tr>\n",
       "  </tbody>\n",
       "</table>\n",
       "</div>"
      ],
      "text/plain": [
       "  Species  Weight  Length  Diagonal   Height   Width\n",
       "0   Bream   242.0    25.4      30.0  11.5200  4.0200\n",
       "1   Bream   290.0    26.3      31.2  12.4800  4.3056\n",
       "2   Bream   340.0    26.5      31.1  12.3778  4.6961\n",
       "3   Bream   363.0    29.0      33.5  12.7300  4.4555\n",
       "4   Bream   430.0    29.0      34.0  12.4440  5.1340"
      ]
     },
     "execution_count": 1,
     "metadata": {},
     "output_type": "execute_result"
    }
   ],
   "source": [
    "import pandas as pd\n",
    "fish = pd.read_csv('https://bit.ly/fish_csv')\n",
    "fish.head()"
   ]
  },
  {
   "cell_type": "code",
   "execution_count": 2,
   "id": "99f4f7b0",
   "metadata": {},
   "outputs": [
    {
     "name": "stdout",
     "output_type": "stream",
     "text": [
      "['Bream' 'Roach' 'Whitefish' 'Parkki' 'Perch' 'Pike' 'Smelt']\n"
     ]
    }
   ],
   "source": [
    "print(pd.unique(fish['Species']))"
   ]
  },
  {
   "cell_type": "code",
   "execution_count": 3,
   "id": "dabcb3f7",
   "metadata": {},
   "outputs": [
    {
     "name": "stdout",
     "output_type": "stream",
     "text": [
      "[[242.      25.4     30.      11.52     4.02  ]\n",
      " [290.      26.3     31.2     12.48     4.3056]\n",
      " [340.      26.5     31.1     12.3778   4.6961]\n",
      " [363.      29.      33.5     12.73     4.4555]\n",
      " [430.      29.      34.      12.444    5.134 ]]\n"
     ]
    }
   ],
   "source": [
    "fish_input = fish[['Weight', 'Length', 'Diagonal', 'Height', 'Width']].to_numpy()\n",
    "print(fish_input[:5])"
   ]
  },
  {
   "cell_type": "code",
   "execution_count": 4,
   "id": "ff5fbc6e",
   "metadata": {},
   "outputs": [],
   "source": [
    "fish_target = fish['Species'].to_numpy()"
   ]
  },
  {
   "cell_type": "code",
   "execution_count": 5,
   "id": "a44dfb26",
   "metadata": {},
   "outputs": [],
   "source": [
    "from sklearn.model_selection import train_test_split\n",
    "train_input, test_input, train_target, test_target = train_test_split(fish_input, fish_target)"
   ]
  },
  {
   "cell_type": "code",
   "execution_count": 6,
   "id": "f2d6cf9b",
   "metadata": {},
   "outputs": [],
   "source": [
    "#훈련 테스트 세트 표준화 전처리\n",
    "from sklearn.preprocessing import StandardScaler\n",
    "ss = StandardScaler()\n",
    "ss.fit(train_input)\n",
    "train_scaled = ss.transform(train_input)\n",
    "test_scaled = ss.transform(test_input)"
   ]
  },
  {
   "cell_type": "code",
   "execution_count": 7,
   "id": "6760ab93",
   "metadata": {},
   "outputs": [
    {
     "name": "stdout",
     "output_type": "stream",
     "text": [
      "0.8739495798319328\n",
      "0.75\n"
     ]
    }
   ],
   "source": [
    "#최근접 이웃 분류기의 확률 예측\n",
    "from sklearn.neighbors import KNeighborsClassifier\n",
    "kn = KNeighborsClassifier(n_neighbors=3) #최근접 이웃 갯수 k=3\n",
    "kn.fit(train_scaled, train_target)\n",
    "print(kn.score(train_scaled, train_target))\n",
    "print(kn.score(test_scaled, test_target))"
   ]
  },
  {
   "cell_type": "markdown",
   "id": "33bad895",
   "metadata": {},
   "source": [
    "타깃값을 그대로 사이킷런 모델에 전달하면 자동으로 순서가 알파벳 순서로 매겨지므로,  \n",
    "predict 메서드를 사용하여 test set에 있는 처음 5개의 샘플 값을 출력해보도록 하겠습니다. "
   ]
  },
  {
   "cell_type": "code",
   "execution_count": 8,
   "id": "5a77e272",
   "metadata": {},
   "outputs": [
    {
     "name": "stdout",
     "output_type": "stream",
     "text": [
      "['Bream' 'Parkki' 'Perch' 'Pike' 'Roach' 'Smelt' 'Whitefish']\n",
      "['Parkki' 'Perch' 'Roach' 'Perch' 'Perch']\n"
     ]
    }
   ],
   "source": [
    "print(kn.classes_) #그대로 전달한 타깃값 출력\n",
    "print(kn.predict(test_scaled[:5])) #test set에 있는 처음 5개 샘플 타깃값"
   ]
  },
  {
   "cell_type": "markdown",
   "id": "9f982064",
   "metadata": {},
   "source": [
    "predict 예측은 어떻게 만들어졌는지 predict_proba() 메서드를 이용하여 클래스별 확률값을 확인해보겠습니다.  "
   ]
  },
  {
   "cell_type": "code",
   "execution_count": 9,
   "id": "ef5a7b59",
   "metadata": {},
   "outputs": [
    {
     "name": "stdout",
     "output_type": "stream",
     "text": [
      "[[0.     0.6667 0.3333 0.     0.     0.     0.    ]\n",
      " [0.     0.     1.     0.     0.     0.     0.    ]\n",
      " [0.     0.     0.3333 0.     0.6667 0.     0.    ]\n",
      " [0.     0.     1.     0.     0.     0.     0.    ]\n",
      " [0.     0.     0.3333 0.     0.3333 0.3333 0.    ]]\n"
     ]
    }
   ],
   "source": [
    "import numpy as np\n",
    "proba = kn.predict_proba(test_scaled[:5])\n",
    "print(np.round(proba, decimals=4))  #소숫점 넷째자리까지 표기(다섯번째에서 반올림)"
   ]
  },
  {
   "cell_type": "markdown",
   "id": "55f19e58",
   "metadata": {},
   "source": [
    "첫 번째 열이 'Bream' 에 대한 확률을, 두 번째 열이 'Parkki'에 대한 확률을 나타냅니다.  \n",
    "계산한 비율이 맞는지 확인해보기 위해 첫 번째 샘플의 최근접 이웃을 출력해봅시다. "
   ]
  },
  {
   "cell_type": "code",
   "execution_count": 10,
   "id": "1c467761",
   "metadata": {},
   "outputs": [
    {
     "name": "stdout",
     "output_type": "stream",
     "text": [
      "[['Parkki' 'Parkki' 'Perch']]\n"
     ]
    }
   ],
   "source": [
    "distances, indexes = kn.kneighbors(test_scaled[0:1])\n",
    "print(train_target[indexes])"
   ]
  },
  {
   "cell_type": "markdown",
   "id": "f2193429",
   "metadata": {},
   "source": [
    "첫 번째 샘플의 이웃은 Perch가 1개, Parkki가 2개이므로 'Parkki'에 해당하는 세 번째 클래스가 2/3, 'Perch'에 해당하는 다섯번째 클래스가 1/3 값을 갖게 됩니다.  \n",
    "  \n",
    "여기까지 k-최근접 이웃 분류기를 사용한 확률 예측을 해보았습니다.  \n",
    "<br/>  \n",
    "다음으로 로지스틱 회귀를 사용한 예측을 해보도록 하겠습니다."
   ]
  },
  {
   "cell_type": "code",
   "execution_count": 11,
   "id": "f2890680",
   "metadata": {},
   "outputs": [
    {
     "data": {
      "image/png": "[encoded data removed]",
      "text/plain": [
       "<Figure size 432x288 with 1 Axes>"
      ]
     },
     "metadata": {
      "needs_background": "light"
     },
     "output_type": "display_data"
    }
   ],
   "source": [
    "import matplotlib.pyplot as plt\n",
    "z = np.arange(-5, 5, 0.1)\n",
    "phi = 1 / (1 + np.exp(-z))\n",
    "plt.plot(z, phi)\n",
    "plt.xlabel('z')\n",
    "plt.ylabel('phi')\n",
    "plt.show()"
   ]
  },
  {
   "cell_type": "code",
   "execution_count": 12,
   "id": "354650b3",
   "metadata": {},
   "outputs": [
    {
     "name": "stdout",
     "output_type": "stream",
     "text": [
      "['A' 'C']\n"
     ]
    }
   ],
   "source": [
    "#로지스틱 회귀로 이진분류 수행하기\n",
    "char_arr = np.array(['A', 'B', 'C', 'D', 'E'])\n",
    "print(char_arr[[True, False, True, False, False]])"
   ]
  },
  {
   "cell_type": "code",
   "execution_count": 13,
   "id": "6a1dc74a",
   "metadata": {},
   "outputs": [
    {
     "name": "stdout",
     "output_type": "stream",
     "text": [
      "[False  True False False False False  True False False  True False  True\n",
      "  True False False False  True  True False  True False False  True False\n",
      " False False  True False False False False False False False  True False\n",
      "  True  True False  True False False  True False False  True False  True\n",
      " False False  True  True False False False  True  True False False False\n",
      "  True  True False False False False False False False  True False  True\n",
      " False False  True False False False False  True False False False False\n",
      "  True False  True False False False False False False False  True  True\n",
      " False False False False  True  True False False False False False False\n",
      " False False False False  True  True  True False False  True False]\n"
     ]
    }
   ],
   "source": [
    "#도미(Bream)와 빙어(Smelt)만 출력하기\n",
    "bream_smelt_indexes = (train_target == 'Bream')|(train_target == 'Smelt')\n",
    "print(bream_smelt_indexes)"
   ]
  },
  {
   "cell_type": "code",
   "execution_count": 14,
   "id": "e52137ec",
   "metadata": {},
   "outputs": [],
   "source": [
    "train_bream_smelt = train_scaled[bream_smelt_indexes]\n",
    "target_bream_smelt = train_target[bream_smelt_indexes]"
   ]
  },
  {
   "cell_type": "markdown",
   "id": "3556fc9f",
   "metadata": {},
   "source": [
    "이제 이 데이터로 로지스틱 회귀 모델을 훈련합니다.  \n",
    "그리고 훈련 모델을 사용하여 train_bream_smelt에 있는 첫 5개 샘플을 출력해보겠습니다."
   ]
  },
  {
   "cell_type": "code",
   "execution_count": 15,
   "id": "c2669326",
   "metadata": {},
   "outputs": [
    {
     "name": "stdout",
     "output_type": "stream",
     "text": [
      "['Smelt' 'Smelt' 'Smelt' 'Smelt' 'Bream']\n"
     ]
    }
   ],
   "source": [
    "from sklearn.linear_model import LogisticRegression\n",
    "lr = LogisticRegression()\n",
    "lr.fit(train_bream_smelt, target_bream_smelt)\n",
    "\n",
    "print(lr.predict(train_bream_smelt[:5]))"
   ]
  },
  {
   "cell_type": "markdown",
   "id": "172cead2",
   "metadata": {},
   "source": [
    "두 번째와 다섯번째를 빙어, 나머지를 도미로 예측했습니다.  \n",
    "이 5개의 예측 확률을 출력해보겠습니다. "
   ]
  },
  {
   "cell_type": "code",
   "execution_count": 16,
   "id": "faf456f8",
   "metadata": {},
   "outputs": [
    {
     "name": "stdout",
     "output_type": "stream",
     "text": [
      "[[0.03391154 0.96608846]\n",
      " [0.03603855 0.96396145]\n",
      " [0.03582089 0.96417911]\n",
      " [0.02900509 0.97099491]\n",
      " [0.99410165 0.00589835]]\n"
     ]
    }
   ],
   "source": [
    "print(lr.predict_proba(train_bream_smelt[:5]))"
   ]
  },
  {
   "cell_type": "markdown",
   "id": "1807fd61",
   "metadata": {},
   "source": [
    "어떤 게 도미고 어떤게 빙어의 확률인지 알아보기 위해서 classes_ 속성을 사용할 수 있습니다. "
   ]
  },
  {
   "cell_type": "code",
   "execution_count": 17,
   "id": "2e843cd5",
   "metadata": {},
   "outputs": [
    {
     "name": "stdout",
     "output_type": "stream",
     "text": [
      "['Bream' 'Smelt']\n"
     ]
    }
   ],
   "source": [
    "print(lr.classes_)"
   ]
  },
  {
   "cell_type": "markdown",
   "id": "72efafe0",
   "metadata": {},
   "source": [
    "이제 로지스틱 회귀가 학습한 계수를 확인해보겠습니다. "
   ]
  },
  {
   "cell_type": "code",
   "execution_count": 18,
   "id": "f2cb1ad8",
   "metadata": {},
   "outputs": [
    {
     "name": "stdout",
     "output_type": "stream",
     "text": [
      "[[-0.42646881 -0.60256452 -0.68252074 -0.99456193 -0.78263044]] [-2.28791769]\n"
     ]
    }
   ],
   "source": [
    "print(lr.coef_, lr.intercept_)"
   ]
  },
  {
   "cell_type": "markdown",
   "id": "741d871b",
   "metadata": {},
   "source": [
    "이를 통해 로지스틱 회귀 모델이 학습한 방정식을 도출해낼 수 있습니다.  \n",
    "<br/>\n",
    "$$\n",
    "z = - 0.426 * (Weight) - 0.603 * (Length) - 0.683 * (Diagnoal) - 0.995 * (Height) - 0.783 * (Width) - 2.288\n",
    "$$\n",
    "\n",
    "이 방정식을 이용하여 z값을 계산해보겠습니다."
   ]
  },
  {
   "cell_type": "code",
   "execution_count": 19,
   "id": "91817672",
   "metadata": {},
   "outputs": [
    {
     "name": "stdout",
     "output_type": "stream",
     "text": [
      "[ 3.34950001  3.28646197  3.29274597  3.51084984 -5.12716733]\n"
     ]
    }
   ],
   "source": [
    "decisions = lr.decision_function(train_bream_smelt[:5])\n",
    "print(decisions)"
   ]
  },
  {
   "cell_type": "markdown",
   "id": "2c572092",
   "metadata": {},
   "source": [
    "이 z값을 시그모이드 함수에 통과시키면 확률을 얻을 수 있습니다.  \n",
    "그러나 scipy 라이브러리에 expit()를 사용하여 시그모이드 함수를 쓸 수 있습니다. "
   ]
  },
  {
   "cell_type": "code",
   "execution_count": 20,
   "id": "f11656f7",
   "metadata": {},
   "outputs": [
    {
     "name": "stdout",
     "output_type": "stream",
     "text": [
      "[0.96608846 0.96396145 0.96417911 0.97099491 0.00589835]\n"
     ]
    }
   ],
   "source": [
    "from scipy.special import expit\n",
    "print(expit(decisions))"
   ]
  },
  {
   "cell_type": "markdown",
   "id": "0d5ad46b",
   "metadata": {},
   "source": [
    "이제 앞서 이진 분류를 진행했으니 다중분류를 수행해보도록 하겠습니다.  "
   ]
  },
  {
   "cell_type": "code",
   "execution_count": 21,
   "id": "030554e5",
   "metadata": {},
   "outputs": [
    {
     "name": "stdout",
     "output_type": "stream",
     "text": [
      "0.9411764705882353\n",
      "0.85\n"
     ]
    }
   ],
   "source": [
    "lr = LogisticRegression(C = 20, max_iter = 1000)\n",
    "lr.fit(train_scaled, train_target)\n",
    "print(lr.score(train_scaled, train_target))\n",
    "print(lr.score(test_scaled, test_target))"
   ]
  },
  {
   "cell_type": "code",
   "execution_count": 22,
   "id": "a63097eb",
   "metadata": {},
   "outputs": [
    {
     "name": "stdout",
     "output_type": "stream",
     "text": [
      "['Parkki' 'Perch' 'Roach' 'Perch' 'Perch']\n"
     ]
    }
   ],
   "source": [
    "#test set의 처음 5개 샘플에 대한 예측\n",
    "print(lr.predict(test_scaled[:5]))"
   ]
  },
  {
   "cell_type": "code",
   "execution_count": 23,
   "id": "1535355d",
   "metadata": {},
   "outputs": [
    {
     "name": "stdout",
     "output_type": "stream",
     "text": [
      "[[0.01  0.73  0.006 0.    0.223 0.    0.03 ]\n",
      " [0.01  0.    0.898 0.002 0.    0.    0.089]\n",
      " [0.001 0.018 0.28  0.002 0.661 0.    0.038]\n",
      " [0.002 0.    0.953 0.001 0.    0.    0.044]\n",
      " [0.    0.012 0.816 0.    0.119 0.051 0.002]]\n"
     ]
    }
   ],
   "source": [
    "#test set의 처음 5개에 대한 예측 확률\n",
    "proba = lr.predict_proba(test_scaled[:5])\n",
    "print(np.round(proba, decimals=3)) #소수점 세번째자리까지 표기"
   ]
  },
  {
   "cell_type": "code",
   "execution_count": 24,
   "id": "7592765d",
   "metadata": {},
   "outputs": [
    {
     "name": "stdout",
     "output_type": "stream",
     "text": [
      "['Bream' 'Parkki' 'Perch' 'Pike' 'Roach' 'Smelt' 'Whitefish']\n"
     ]
    }
   ],
   "source": [
    "#classes_속성으로 클래스 정보 확인\n",
    "print(lr.classes_)"
   ]
  },
  {
   "cell_type": "code",
   "execution_count": 25,
   "id": "196c678f",
   "metadata": {},
   "outputs": [
    {
     "name": "stdout",
     "output_type": "stream",
     "text": [
      "(7, 5) (7,)\n"
     ]
    }
   ],
   "source": [
    "print(lr.coef_.shape, lr.intercept_.shape)"
   ]
  },
  {
   "cell_type": "markdown",
   "id": "2f1e8c7c",
   "metadata": {},
   "source": [
    "이진 분류에서는 시그모이드 함수를 사용하여 z를 0과 1 사이의 값으로 변환했지만,  \n",
    "다중 분류에서는 소프트맥스 함수를 사용하여 7개의 z값을 확률로 변환합니다.  \n",
    "<br/>\n",
    "먼저 7개의 z 값을 각각 z1, z2, ... , z7로 이름을 붙인 후 지수함수를 취해 모두 더한 다음, 각 지수함수의 값을 전체 더한 값으로 나눠주면 됩니다. "
   ]
  },
  {
   "cell_type": "code",
   "execution_count": 26,
   "id": "92acf90a",
   "metadata": {},
   "outputs": [
    {
     "name": "stdout",
     "output_type": "stream",
     "text": [
      "[[ -0.17   4.13  -0.67  -3.44   2.95  -3.75   0.96]\n",
      " [  4.31  -5.68   8.79   2.78   0.69 -17.37   6.48]\n",
      " [ -2.69   0.28   3.04  -2.01   3.9   -3.56   1.05]\n",
      " [  3.78  -6.28   9.85   2.82   0.69 -17.63   6.78]\n",
      " [ -8.63   1.35   5.59  -4.1    3.66   2.82  -0.7 ]]\n"
     ]
    }
   ],
   "source": [
    "#z1부터 z7까지의 값 구하고 확률로 바꾸기\n",
    "decision = lr.decision_function(test_scaled[:5])\n",
    "print(np.round(decision, decimals=2)) #소수점 둘째자리까지 표기"
   ]
  },
  {
   "cell_type": "code",
   "execution_count": 27,
   "id": "545eade0",
   "metadata": {},
   "outputs": [
    {
     "name": "stdout",
     "output_type": "stream",
     "text": [
      "[[0.01  0.73  0.006 0.    0.223 0.    0.03 ]\n",
      " [0.01  0.    0.898 0.002 0.    0.    0.089]\n",
      " [0.001 0.018 0.28  0.002 0.661 0.    0.038]\n",
      " [0.002 0.    0.953 0.001 0.    0.    0.044]\n",
      " [0.    0.012 0.816 0.    0.119 0.051 0.002]]\n"
     ]
    }
   ],
   "source": [
    "from scipy.special import softmax\n",
    "proba = softmax(decision, axis = 1)\n",
    "print(np.round(proba, decimals = 3)) #소수점 셋째자리까지 표시"
   ]
  },
  {
   "cell_type": "code",
   "execution_count": null,
   "id": "3343decf",
   "metadata": {},
   "outputs": [],
   "source": []
  }
 ],
 "metadata": {
  "kernelspec": {
   "display_name": "Python 3 (ipykernel)",
   "language": "python",
   "name": "python3"
  },
  "language_info": {
   "codemirror_mode": {
    "name": "ipython",
    "version": 3
   },
   "file_extension": ".py",
   "mimetype": "text/x-python",
   "name": "python",
   "nbconvert_exporter": "python",
   "pygments_lexer": "ipython3",
   "version": "3.9.7"
  }
 },
 "nbformat": 4,
 "nbformat_minor": 5
}
