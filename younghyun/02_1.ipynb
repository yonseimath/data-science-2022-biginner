{
  "nbformat": 4,
  "nbformat_minor": 0,
  "metadata": {
    "colab": {
      "name": "02-1.ipynb",
      "provenance": [],
      "collapsed_sections": []
    },
    "kernelspec": {
      "name": "python3",
      "display_name": "Python 3"
    },
    "language_info": {
      "name": "python"
    }
  },
  "cells": [
    {
      "cell_type": "markdown",
      "source": [
        "## 훈련 세트와 테스트 세트  \n",
        "머신러닝 알고리즘\n",
        "- 지도학습 : 훈련하기 위한 데이터, 정답이 필요\n",
        "- 비지도학습  \n",
        "\n",
        "지도학습에서 데이터를 입력, 정답(결과)을 타깃이라고 하고 입력과 타깃을 합쳐 훈련 데이터라고 한다.  \n",
        "입력 데이터에서 타깃을 결정짓는 것을 특성이라고 한다.  \n",
        "\n",
        "데이터를 나누어 일부는 머신러닝 알고리즘을 만드는 데에 사용하고, 나머지는 만들어진 알고리즘의 성능을 평가하는 데에 쓰인다는 것은 알고 있기 때문에  \n",
        "바로 데이터를 나눠보겠습니다. "
      ],
      "metadata": {
        "id": "j6CAwzEIow9B"
      }
    },
    {
      "cell_type": "code",
      "source": [
        "#fish의 길이와 무게에 대한 데이터\n",
        "fish_length = [25.4, 26.3, 26.5, 29.0, 29.0, 29.7, 29.7, 30.0, 30.0, 30.7, 31.0, 31.0, \n",
        "                31.5, 32.0, 32.0, 32.0, 33.0, 33.0, 33.5, 33.5, 34.0, 34.0, 34.5, 35.0, \n",
        "                35.0, 35.0, 35.0, 36.0, 36.0, 37.0, 38.5, 38.5, 39.5, 41.0, 41.0, 9.8, \n",
        "                10.5, 10.6, 11.0, 11.2, 11.3, 11.8, 11.8, 12.0, 12.2, 12.4, 13.0, 14.3, 15.0]\n",
        "fish_weight = [242.0, 290.0, 340.0, 363.0, 430.0, 450.0, 500.0, 390.0, 450.0, 500.0, 475.0, 500.0, \n",
        "                500.0, 340.0, 600.0, 600.0, 700.0, 700.0, 610.0, 650.0, 575.0, 685.0, 620.0, 680.0, \n",
        "                700.0, 725.0, 720.0, 714.0, 850.0, 1000.0, 920.0, 955.0, 925.0, 975.0, 950.0, 6.7, \n",
        "                7.5, 7.0, 9.7, 9.8, 8.7, 10.0, 9.9, 9.8, 12.2, 13.4, 12.2, 19.7, 19.9]"
      ],
      "metadata": {
        "id": "9A_dFkNswTIN"
      },
      "execution_count": 1,
      "outputs": []
    },
    {
      "cell_type": "markdown",
      "source": [
        "fish_length와 fist_weight 이 각각의 데이터를 fish_data라는 이름의 하나의 데이터로 묶고,  \n",
        "target 변수로 도미 35마리, 빙어 14마리로 각각 지정해줍니다."
      ],
      "metadata": {
        "id": "Bf8ds0iYw4H6"
      }
    },
    {
      "cell_type": "code",
      "source": [
        "fish_data = [[l, w] for l, w in zip(fish_length, fish_weight)]\n",
        "fish_target = [1]*35 + [0]*14  #target 변수를 앞선 35개엔 1로, 나머지 14개에는 0으로 부여"
      ],
      "metadata": {
        "id": "EG5hbacnwyPa"
      },
      "execution_count": 2,
      "outputs": []
    },
    {
      "cell_type": "markdown",
      "source": [
        "모델 객체를 만들기 위하여 사이킷런의 KNeighborsClassifier을 임포트해줍니다. "
      ],
      "metadata": {
        "id": "phbp6kiQxzF-"
      }
    },
    {
      "cell_type": "code",
      "source": [
        "from sklearn.neighbors import KNeighborsClassifier\n",
        "kn = KNeighborsClassifier()"
      ],
      "metadata": {
        "id": "GC-n3JxYxw6G"
      },
      "execution_count": 3,
      "outputs": []
    },
    {
      "cell_type": "markdown",
      "source": [
        "전체 데이터에서 처음 35개의 데이터를 훈련 세트로, 나머지 14개의 데이터를 테스트 세트로 사용합니다.   \n",
        "슬라이싱하여 선택해줍니다.  \n",
        "슬라이싱을 사용할 때 마지막 인덱스의 번호는 포함되지 않는다는 것을 유의합니다."
      ],
      "metadata": {
        "id": "k-Jo1G7vyIBk"
      }
    },
    {
      "cell_type": "code",
      "source": [
        "# 훈련 세트로 입력값 중 0부터 34번째 인덱스까지 사용할 때\n",
        "train_input = fish_data[:35]\n",
        "train_target = fish_target[:35]\n",
        "\n",
        "# 테스트 세트로 입력값 중 35번째부터 마지막 인덱스까지 사용할 때\n",
        "test_input = fish_data[35:]\n",
        "test_target = fish_target[35:]"
      ],
      "metadata": {
        "id": "Zzxqw7bEyDJv"
      },
      "execution_count": 4,
      "outputs": []
    },
    {
      "cell_type": "markdown",
      "source": [
        "훈련 데이터와 테스트용 데이터를 준비했으니 훈련 세트로 fit() 메서드를 호출하여 모델을 훈련하고,  \n",
        "테스트 세트로 score() 매서드를 호출하여 평가해봅니다. "
      ],
      "metadata": {
        "id": "SdTrMGfJznRV"
      }
    },
    {
      "cell_type": "code",
      "source": [
        "kn = kn.fit(train_input, train_target)\n",
        "kn.score(test_input, test_target)"
      ],
      "metadata": {
        "colab": {
          "base_uri": "https://localhost:8080/"
        },
        "id": "xieaCKWczRhp",
        "outputId": "d496b7cc-983d-4826-89e1-7d92148343fc"
      },
      "execution_count": 5,
      "outputs": [
        {
          "output_type": "execute_result",
          "data": {
            "text/plain": [
              "0.0"
            ]
          },
          "metadata": {},
          "execution_count": 5
        }
      ]
    },
    {
      "cell_type": "markdown",
      "source": [
        "정확도가 0이 나오는 것을 확인할 수 있는데, 이는 훈련세트와 테스트세트가 적절하지 못하게 나뉘었기 때문입니다.  \n",
        "fish_data에는 순서대로 35개의 도미와 14개의 빙어가 들어있기 때문에, 훈련세트에 빙어가 없었다는 것입니다.  \n",
        "이러한 샘플링 편향을 방지하기 위해 데이터를 섞거나 고루 샘플을 뽑는 법을 알아보겠습니다."
      ],
      "metadata": {
        "id": "gupx4zIG5YXm"
      }
    },
    {
      "cell_type": "markdown",
      "source": [
        "배열을 다루기 위해서는 파이썬의 대표적인 배열 라이브러리인 numpy를 알아야 합니다.  \n",
        "넘파이를 사용하여 데이터를 다시 나눌 것이기 때문에 우선 import를 해줍니다. "
      ],
      "metadata": {
        "id": "6bWajUJQ6CuO"
      }
    },
    {
      "cell_type": "code",
      "source": [
        "import numpy as np"
      ],
      "metadata": {
        "id": "O3Wsgibnzaqr"
      },
      "execution_count": 6,
      "outputs": []
    },
    {
      "cell_type": "markdown",
      "source": [
        "그리고 넘파이를 이용하여 파이썬 리스트 형태였던 fish_data, fish_target을 넘파이 배열로 바꿔줍니다."
      ],
      "metadata": {
        "id": "80CVyigU6ceE"
      }
    },
    {
      "cell_type": "code",
      "source": [
        "input_arr = np.array(fish_data)\n",
        "target_arr = np.array(fish_target)\n",
        "print(input_arr)"
      ],
      "metadata": {
        "colab": {
          "base_uri": "https://localhost:8080/"
        },
        "id": "W9LADdtZ6R9r",
        "outputId": "c4a8e505-9e45-4c2e-d21d-4b872163dc2b"
      },
      "execution_count": 7,
      "outputs": [
        {
          "output_type": "stream",
          "name": "stdout",
          "text": [
            "[[  25.4  242. ]\n",
            " [  26.3  290. ]\n",
            " [  26.5  340. ]\n",
            " [  29.   363. ]\n",
            " [  29.   430. ]\n",
            " [  29.7  450. ]\n",
            " [  29.7  500. ]\n",
            " [  30.   390. ]\n",
            " [  30.   450. ]\n",
            " [  30.7  500. ]\n",
            " [  31.   475. ]\n",
            " [  31.   500. ]\n",
            " [  31.5  500. ]\n",
            " [  32.   340. ]\n",
            " [  32.   600. ]\n",
            " [  32.   600. ]\n",
            " [  33.   700. ]\n",
            " [  33.   700. ]\n",
            " [  33.5  610. ]\n",
            " [  33.5  650. ]\n",
            " [  34.   575. ]\n",
            " [  34.   685. ]\n",
            " [  34.5  620. ]\n",
            " [  35.   680. ]\n",
            " [  35.   700. ]\n",
            " [  35.   725. ]\n",
            " [  35.   720. ]\n",
            " [  36.   714. ]\n",
            " [  36.   850. ]\n",
            " [  37.  1000. ]\n",
            " [  38.5  920. ]\n",
            " [  38.5  955. ]\n",
            " [  39.5  925. ]\n",
            " [  41.   975. ]\n",
            " [  41.   950. ]\n",
            " [   9.8    6.7]\n",
            " [  10.5    7.5]\n",
            " [  10.6    7. ]\n",
            " [  11.     9.7]\n",
            " [  11.2    9.8]\n",
            " [  11.3    8.7]\n",
            " [  11.8   10. ]\n",
            " [  11.8    9.9]\n",
            " [  12.     9.8]\n",
            " [  12.2   12.2]\n",
            " [  12.4   13.4]\n",
            " [  13.    12.2]\n",
            " [  14.3   19.7]\n",
            " [  15.    19.9]]\n"
          ]
        }
      ]
    },
    {
      "cell_type": "markdown",
      "source": [
        "원하는 형태로 잘 저장된 것을 볼 수 있습니다.  \n",
        "이제 무작위로 샘플을 고릅니다.  \n",
        "우선 인덱스를 input_arr와 target_arr에 부여하고 랜덤하게 섞어보겠습니다."
      ],
      "metadata": {
        "id": "zvOugwXU6zQI"
      }
    },
    {
      "cell_type": "code",
      "source": [
        "np.random.seed(42)\n",
        "index = np.arange(49)\n",
        "np.random.shuffle(index)"
      ],
      "metadata": {
        "id": "kzyzhBr76bVM"
      },
      "execution_count": 8,
      "outputs": []
    },
    {
      "cell_type": "markdown",
      "source": [
        "이제 인덱스를 출력하면 골고루 섞인 인덱스를 확인할 수 있습니다. "
      ],
      "metadata": {
        "id": "TKqB0GRH7qin"
      }
    },
    {
      "cell_type": "code",
      "source": [
        "print(index)"
      ],
      "metadata": {
        "colab": {
          "base_uri": "https://localhost:8080/"
        },
        "id": "ZjvG-mNm7lxD",
        "outputId": "ba42dd1d-7745-41e8-fabc-9ac51b399ee1"
      },
      "execution_count": 9,
      "outputs": [
        {
          "output_type": "stream",
          "name": "stdout",
          "text": [
            "[13 45 47 44 17 27 26 25 31 19 12  4 34  8  3  6 40 41 46 15  9 16 24 33\n",
            " 30  0 43 32  5 29 11 36  1 21  2 37 35 23 39 10 22 18 48 20  7 42 14 28\n",
            " 38]\n"
          ]
        }
      ]
    },
    {
      "cell_type": "markdown",
      "source": [
        "이제 넘파이 배열을 인덱스로 전달하여 랜덤한 35개의 샘플을 train 세트로 만들고,  \n",
        "나머지 14개의 샘플을 test 세트로 만듭니다."
      ],
      "metadata": {
        "id": "r-_xunOX78XQ"
      }
    },
    {
      "cell_type": "code",
      "source": [
        "train_input = input_arr[index[:35]]\n",
        "train_target = target_arr[index[:35]]\n",
        "\n",
        "test_input = input_arr[index[35:]]\n",
        "test_target = target_arr[index[35:]]"
      ],
      "metadata": {
        "id": "d8epXb1X71Ez"
      },
      "execution_count": 10,
      "outputs": []
    },
    {
      "cell_type": "markdown",
      "source": [
        "이제 훈련 데이터를 잘 섞어서 만들었으니 산점도를 그려 잘 섞여있는지 다시 한 번 확인해보도록 하겠습니다."
      ],
      "metadata": {
        "id": "DH9-7udF8mQK"
      }
    },
    {
      "cell_type": "code",
      "source": [
        "import matplotlib.pyplot as plt\n",
        "plt.scatter(train_input[:,0], train_input[:,1])\n",
        "plt.scatter(test_input[:,0], test_input[:,1])\n",
        "plt.xlabel('length')\n",
        "plt.ylabel('weight')\n",
        "plt.show()"
      ],
      "metadata": {
        "colab": {
          "base_uri": "https://localhost:8080/",
          "height": 278
        },
        "id": "JSqRSjsZ8MMm",
        "outputId": "17aafa58-78cf-49ed-a2b2-2da86985a3c0"
      },
      "execution_count": 11,
      "outputs": [
        {
          "output_type": "display_data",
          "data": {
            "text/plain": [
              "<Figure size 432x288 with 1 Axes>"
            ],
            "image/png": "[encoded data removed]"
          },
          "metadata": {
            "needs_background": "light"
          }
        }
      ]
    },
    {
      "cell_type": "markdown",
      "source": [
        "주황색과 파란색이 적절히 잘 섞여있는 것을 확인할 수 있습니다.  \n",
        "이제 데이터세트가 잘 나뉜 것을 보았으니 머신러닝 모델을 다시 만들어 봅니다."
      ],
      "metadata": {
        "id": "LgW3fH_69dh2"
      }
    },
    {
      "cell_type": "code",
      "source": [
        "kn = kn.fit(train_input, train_target)"
      ],
      "metadata": {
        "id": "go2ZldGj9Coc"
      },
      "execution_count": 12,
      "outputs": []
    },
    {
      "cell_type": "code",
      "source": [
        "kn.score(test_input, test_target)"
      ],
      "metadata": {
        "colab": {
          "base_uri": "https://localhost:8080/"
        },
        "id": "dqft2vRP9tB1",
        "outputId": "42df2090-cc15-4d85-bca1-10cc2ed5f5fe"
      },
      "execution_count": 13,
      "outputs": [
        {
          "output_type": "execute_result",
          "data": {
            "text/plain": [
              "1.0"
            ]
          },
          "metadata": {},
          "execution_count": 13
        }
      ]
    },
    {
      "cell_type": "markdown",
      "source": [
        "아까와 달리 정확도가 1.0, 즉 100퍼센트가 나왔습니다.  \n",
        "이제 predict() 메서드를 사용하여 예측 결과와 실제 타깃을 확인합니다."
      ],
      "metadata": {
        "id": "92D51JNf91NM"
      }
    },
    {
      "cell_type": "code",
      "source": [
        "kn.predict(test_input)"
      ],
      "metadata": {
        "colab": {
          "base_uri": "https://localhost:8080/"
        },
        "id": "ttwHBkjM9wqZ",
        "outputId": "304a6cd5-d187-485e-e7b3-51ff22c247e5"
      },
      "execution_count": 14,
      "outputs": [
        {
          "output_type": "execute_result",
          "data": {
            "text/plain": [
              "array([0, 0, 1, 0, 1, 1, 1, 0, 1, 1, 0, 1, 1, 0])"
            ]
          },
          "metadata": {},
          "execution_count": 14
        }
      ]
    },
    {
      "cell_type": "code",
      "source": [
        "test_target"
      ],
      "metadata": {
        "colab": {
          "base_uri": "https://localhost:8080/"
        },
        "id": "piIrFpMc-Fnv",
        "outputId": "69b18b16-e9e6-49c0-d708-b14fdfe17103"
      },
      "execution_count": 15,
      "outputs": [
        {
          "output_type": "execute_result",
          "data": {
            "text/plain": [
              "array([0, 0, 1, 0, 1, 1, 1, 0, 1, 1, 0, 1, 1, 0])"
            ]
          },
          "metadata": {},
          "execution_count": 15
        }
      ]
    },
    {
      "cell_type": "markdown",
      "source": [
        "predict 메서드를 사용한 결과와 실제 test_target 결과가 일치합니다."
      ],
      "metadata": {
        "id": "KQtpaBsl-PhE"
      }
    },
    {
      "cell_type": "markdown",
      "source": [
        "처음에 진행한 모델링에서는 도미와 빙어가 적절히 섞이지 않은 데이터를 가지고 훈련을 했기 때문에 정확도가 매우 떨어졌지만, 후에 데이터를 적절히 잘 섞어 골라 모델을 만들고 나니 정확도가 올라가는 것을 경험할 수 있었습니다.  \n",
        "이와 같이 데이터를 추출하여 지도학습을 할 때에 train dataset과 test dataset을 적절히 잘 나누어 모델링을 해야 좋은 결과를 얻을 수 있습니다."
      ],
      "metadata": {
        "id": "kBeVE9Gc_JSP"
      }
    },
    {
      "cell_type": "code",
      "source": [
        ""
      ],
      "metadata": {
        "id": "yncb7wzg_0nn"
      },
      "execution_count": 15,
      "outputs": []
    }
  ]
}