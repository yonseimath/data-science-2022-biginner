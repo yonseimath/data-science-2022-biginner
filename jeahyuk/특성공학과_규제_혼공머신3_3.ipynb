{
  "nbformat": 4,
  "nbformat_minor": 0,
  "metadata": {
    "colab": {
      "name": "특성공학과 규제 혼공머신3-3",
      "provenance": [],
      "authorship_tag": "ABX9TyM8nU9Ix5ehTXzahKI9Uc1o",
      "include_colab_link": true
    },
    "kernelspec": {
      "name": "python3",
      "display_name": "Python 3"
    },
    "language_info": {
      "name": "python"
    }
  },
  "cells": [
    {
      "cell_type": "markdown",
      "metadata": {
        "id": "view-in-github",
        "colab_type": "text"
      },
      "source": [
        "<a href=\"https://colab.research.google.com/github/yonseimath/data-science-2022-biginner/blob/feature%2Fjeahyuk/jeahyuk/%ED%8A%B9%EC%84%B1%EA%B3%B5%ED%95%99%EA%B3%BC_%EA%B7%9C%EC%A0%9C_%ED%98%BC%EA%B3%B5%EB%A8%B8%EC%8B%A03_3.ipynb\" target=\"_parent\"><img src=\"https://colab.research.google.com/assets/colab-badge.svg\" alt=\"Open In Colab\"/></a>"
      ]
    },
    {
      "cell_type": "markdown",
      "source": [
        ""
      ],
      "metadata": {
        "id": "jKl2ttEyLLO-"
      }
    },
    {
      "cell_type": "code",
      "metadata": {
        "id": "g49RuFGrBvt7"
      },
      "source": [
        "import pandas as pd\n",
        "import numpy as np\n",
        "import matplotlib.pyplot as plt\n",
        "import seaborn as sns\n",
        "import tensorflow as tf"
      ],
      "execution_count": null,
      "outputs": []
    },
    {
      "cell_type": "code",
      "metadata": {
        "id": "RRXGYV60B7FX"
      },
      "source": [
        "import os"
      ],
      "execution_count": null,
      "outputs": []
    },
    {
      "cell_type": "code",
      "metadata": {
        "id": "mMKFOC0OBtHO"
      },
      "source": [
        "os.environ['KAGGLE_USERNAME'] ='leejeahyuk'\n",
        "os.environ['KAGGLE_KEY'] ='909dc28f843ffc03b80b5291757fd8f0'"
      ],
      "execution_count": null,
      "outputs": []
    },
    {
      "cell_type": "code",
      "metadata": {
        "id": "JSblp2NsCGbh",
        "colab": {
          "base_uri": "https://localhost:8080/"
        },
        "outputId": "1f0b9201-ccb2-402d-eecd-4fc8d920b955"
      },
      "source": [
        "!kaggle datasets download -d aungpyaeap/fish-market\n",
        "!unzip '*.zip'"
      ],
      "execution_count": null,
      "outputs": [
        {
          "output_type": "stream",
          "name": "stdout",
          "text": [
            "Downloading fish-market.zip to /content\n",
            "\r  0% 0.00/2.39k [00:00<?, ?B/s]\n",
            "\r100% 2.39k/2.39k [00:00<00:00, 2.11MB/s]\n",
            "Archive:  fish-market.zip\n",
            "  inflating: Fish.csv                \n"
          ]
        }
      ]
    },
    {
      "cell_type": "code",
      "source": [
        "!ls"
      ],
      "metadata": {
        "colab": {
          "base_uri": "https://localhost:8080/"
        },
        "id": "2-MvGqNeGNxw",
        "outputId": "dc6aa174-ca85-4dce-a06e-0a6143d2289b"
      },
      "execution_count": null,
      "outputs": [
        {
          "output_type": "stream",
          "name": "stdout",
          "text": [
            "Fish.csv  fish-market.zip  sample_data\n"
          ]
        }
      ]
    },
    {
      "cell_type": "code",
      "metadata": {
        "id": "RnJv-4YwCMSx"
      },
      "source": [
        "df = pd.read_csv('Fish.csv')"
      ],
      "execution_count": null,
      "outputs": []
    },
    {
      "cell_type": "code",
      "source": [
        "df.Perch = df[(df['Species']=='Perch')]"
      ],
      "metadata": {
        "colab": {
          "base_uri": "https://localhost:8080/"
        },
        "id": "Dm_obrVDV15A",
        "outputId": "4d712d33-ca18-4e7f-86e7-2f3b9600f33f"
      },
      "execution_count": null,
      "outputs": [
        {
          "output_type": "stream",
          "name": "stderr",
          "text": [
            "/usr/local/lib/python3.7/dist-packages/ipykernel_launcher.py:1: UserWarning: Pandas doesn't allow columns to be created via a new attribute name - see https://pandas.pydata.org/pandas-docs/stable/indexing.html#attribute-access\n",
            "  \"\"\"Entry point for launching an IPython kernel.\n"
          ]
        }
      ]
    },
    {
      "cell_type": "code",
      "source": [
        "y=df['Weight']\n",
        "X=df.drop(['Species','Weight'] ,axis=1)"
      ],
      "metadata": {
        "id": "DmeNZ2yQ68mc"
      },
      "execution_count": null,
      "outputs": []
    },
    {
      "cell_type": "code",
      "source": [
        "X"
      ],
      "metadata": {
        "colab": {
          "base_uri": "https://localhost:8080/",
          "height": 424
        },
        "id": "qZmI1n7qxti5",
        "outputId": "1e18d444-9426-4540-f9f4-782ec8353178"
      },
      "execution_count": null,
      "outputs": [
        {
          "output_type": "execute_result",
          "data": {
            "text/plain": [
              "     Length1  Length2  Length3   Height   Width\n",
              "0       23.2     25.4     30.0  11.5200  4.0200\n",
              "1       24.0     26.3     31.2  12.4800  4.3056\n",
              "2       23.9     26.5     31.1  12.3778  4.6961\n",
              "3       26.3     29.0     33.5  12.7300  4.4555\n",
              "4       26.5     29.0     34.0  12.4440  5.1340\n",
              "..       ...      ...      ...      ...     ...\n",
              "154     11.5     12.2     13.4   2.0904  1.3936\n",
              "155     11.7     12.4     13.5   2.4300  1.2690\n",
              "156     12.1     13.0     13.8   2.2770  1.2558\n",
              "157     13.2     14.3     15.2   2.8728  2.0672\n",
              "158     13.8     15.0     16.2   2.9322  1.8792\n",
              "\n",
              "[159 rows x 5 columns]"
            ],
            "text/html": [
              "\n",
              "  <div id=\"df-8c50e254-2141-45c7-a788-e6bca36149b1\">\n",
              "    <div class=\"colab-df-container\">\n",
              "      <div>\n",
              "<style scoped>\n",
              "    .dataframe tbody tr th:only-of-type {\n",
              "        vertical-align: middle;\n",
              "    }\n",
              "\n",
              "    .dataframe tbody tr th {\n",
              "        vertical-align: top;\n",
              "    }\n",
              "\n",
              "    .dataframe thead th {\n",
              "        text-align: right;\n",
              "    }\n",
              "</style>\n",
              "<table border=\"1\" class=\"dataframe\">\n",
              "  <thead>\n",
              "    <tr style=\"text-align: right;\">\n",
              "      <th></th>\n",
              "      <th>Length1</th>\n",
              "      <th>Length2</th>\n",
              "      <th>Length3</th>\n",
              "      <th>Height</th>\n",
              "      <th>Width</th>\n",
              "    </tr>\n",
              "  </thead>\n",
              "  <tbody>\n",
              "    <tr>\n",
              "      <th>0</th>\n",
              "      <td>23.2</td>\n",
              "      <td>25.4</td>\n",
              "      <td>30.0</td>\n",
              "      <td>11.5200</td>\n",
              "      <td>4.0200</td>\n",
              "    </tr>\n",
              "    <tr>\n",
              "      <th>1</th>\n",
              "      <td>24.0</td>\n",
              "      <td>26.3</td>\n",
              "      <td>31.2</td>\n",
              "      <td>12.4800</td>\n",
              "      <td>4.3056</td>\n",
              "    </tr>\n",
              "    <tr>\n",
              "      <th>2</th>\n",
              "      <td>23.9</td>\n",
              "      <td>26.5</td>\n",
              "      <td>31.1</td>\n",
              "      <td>12.3778</td>\n",
              "      <td>4.6961</td>\n",
              "    </tr>\n",
              "    <tr>\n",
              "      <th>3</th>\n",
              "      <td>26.3</td>\n",
              "      <td>29.0</td>\n",
              "      <td>33.5</td>\n",
              "      <td>12.7300</td>\n",
              "      <td>4.4555</td>\n",
              "    </tr>\n",
              "    <tr>\n",
              "      <th>4</th>\n",
              "      <td>26.5</td>\n",
              "      <td>29.0</td>\n",
              "      <td>34.0</td>\n",
              "      <td>12.4440</td>\n",
              "      <td>5.1340</td>\n",
              "    </tr>\n",
              "    <tr>\n",
              "      <th>...</th>\n",
              "      <td>...</td>\n",
              "      <td>...</td>\n",
              "      <td>...</td>\n",
              "      <td>...</td>\n",
              "      <td>...</td>\n",
              "    </tr>\n",
              "    <tr>\n",
              "      <th>154</th>\n",
              "      <td>11.5</td>\n",
              "      <td>12.2</td>\n",
              "      <td>13.4</td>\n",
              "      <td>2.0904</td>\n",
              "      <td>1.3936</td>\n",
              "    </tr>\n",
              "    <tr>\n",
              "      <th>155</th>\n",
              "      <td>11.7</td>\n",
              "      <td>12.4</td>\n",
              "      <td>13.5</td>\n",
              "      <td>2.4300</td>\n",
              "      <td>1.2690</td>\n",
              "    </tr>\n",
              "    <tr>\n",
              "      <th>156</th>\n",
              "      <td>12.1</td>\n",
              "      <td>13.0</td>\n",
              "      <td>13.8</td>\n",
              "      <td>2.2770</td>\n",
              "      <td>1.2558</td>\n",
              "    </tr>\n",
              "    <tr>\n",
              "      <th>157</th>\n",
              "      <td>13.2</td>\n",
              "      <td>14.3</td>\n",
              "      <td>15.2</td>\n",
              "      <td>2.8728</td>\n",
              "      <td>2.0672</td>\n",
              "    </tr>\n",
              "    <tr>\n",
              "      <th>158</th>\n",
              "      <td>13.8</td>\n",
              "      <td>15.0</td>\n",
              "      <td>16.2</td>\n",
              "      <td>2.9322</td>\n",
              "      <td>1.8792</td>\n",
              "    </tr>\n",
              "  </tbody>\n",
              "</table>\n",
              "<p>159 rows × 5 columns</p>\n",
              "</div>\n",
              "      <button class=\"colab-df-convert\" onclick=\"convertToInteractive('df-8c50e254-2141-45c7-a788-e6bca36149b1')\"\n",
              "              title=\"Convert this dataframe to an interactive table.\"\n",
              "              style=\"display:none;\">\n",
              "        \n",
              "  <svg xmlns=\"http://www.w3.org/2000/svg\" height=\"24px\"viewBox=\"0 0 24 24\"\n",
              "       width=\"24px\">\n",
              "    <path d=\"M0 0h24v24H0V0z\" fill=\"none\"/>\n",
              "    <path d=\"M18.56 5.44l.94 2.06.94-2.06 2.06-.94-2.06-.94-.94-2.06-.94 2.06-2.06.94zm-11 1L8.5 8.5l.94-2.06 2.06-.94-2.06-.94L8.5 2.5l-.94 2.06-2.06.94zm10 10l.94 2.06.94-2.06 2.06-.94-2.06-.94-.94-2.06-.94 2.06-2.06.94z\"/><path d=\"M17.41 7.96l-1.37-1.37c-.4-.4-.92-.59-1.43-.59-.52 0-1.04.2-1.43.59L10.3 9.45l-7.72 7.72c-.78.78-.78 2.05 0 2.83L4 21.41c.39.39.9.59 1.41.59.51 0 1.02-.2 1.41-.59l7.78-7.78 2.81-2.81c.8-.78.8-2.07 0-2.86zM5.41 20L4 18.59l7.72-7.72 1.47 1.35L5.41 20z\"/>\n",
              "  </svg>\n",
              "      </button>\n",
              "      \n",
              "  <style>\n",
              "    .colab-df-container {\n",
              "      display:flex;\n",
              "      flex-wrap:wrap;\n",
              "      gap: 12px;\n",
              "    }\n",
              "\n",
              "    .colab-df-convert {\n",
              "      background-color: #E8F0FE;\n",
              "      border: none;\n",
              "      border-radius: 50%;\n",
              "      cursor: pointer;\n",
              "      display: none;\n",
              "      fill: #1967D2;\n",
              "      height: 32px;\n",
              "      padding: 0 0 0 0;\n",
              "      width: 32px;\n",
              "    }\n",
              "\n",
              "    .colab-df-convert:hover {\n",
              "      background-color: #E2EBFA;\n",
              "      box-shadow: 0px 1px 2px rgba(60, 64, 67, 0.3), 0px 1px 3px 1px rgba(60, 64, 67, 0.15);\n",
              "      fill: #174EA6;\n",
              "    }\n",
              "\n",
              "    [theme=dark] .colab-df-convert {\n",
              "      background-color: #3B4455;\n",
              "      fill: #D2E3FC;\n",
              "    }\n",
              "\n",
              "    [theme=dark] .colab-df-convert:hover {\n",
              "      background-color: #434B5C;\n",
              "      box-shadow: 0px 1px 3px 1px rgba(0, 0, 0, 0.15);\n",
              "      filter: drop-shadow(0px 1px 2px rgba(0, 0, 0, 0.3));\n",
              "      fill: #FFFFFF;\n",
              "    }\n",
              "  </style>\n",
              "\n",
              "      <script>\n",
              "        const buttonEl =\n",
              "          document.querySelector('#df-8c50e254-2141-45c7-a788-e6bca36149b1 button.colab-df-convert');\n",
              "        buttonEl.style.display =\n",
              "          google.colab.kernel.accessAllowed ? 'block' : 'none';\n",
              "\n",
              "        async function convertToInteractive(key) {\n",
              "          const element = document.querySelector('#df-8c50e254-2141-45c7-a788-e6bca36149b1');\n",
              "          const dataTable =\n",
              "            await google.colab.kernel.invokeFunction('convertToInteractive',\n",
              "                                                     [key], {});\n",
              "          if (!dataTable) return;\n",
              "\n",
              "          const docLinkHtml = 'Like what you see? Visit the ' +\n",
              "            '<a target=\"_blank\" href=https://colab.research.google.com/notebooks/data_table.ipynb>data table notebook</a>'\n",
              "            + ' to learn more about interactive tables.';\n",
              "          element.innerHTML = '';\n",
              "          dataTable['output_type'] = 'display_data';\n",
              "          await google.colab.output.renderOutput(dataTable, element);\n",
              "          const docLink = document.createElement('div');\n",
              "          docLink.innerHTML = docLinkHtml;\n",
              "          element.appendChild(docLink);\n",
              "        }\n",
              "      </script>\n",
              "    </div>\n",
              "  </div>\n",
              "  "
            ]
          },
          "metadata": {},
          "execution_count": 15
        }
      ]
    },
    {
      "cell_type": "code",
      "source": [
        "sns.jointplot(x='Length1', y='Weight', data=df.Perch ,kind='reg')"
      ],
      "metadata": {
        "colab": {
          "base_uri": "https://localhost:8080/",
          "height": 459
        },
        "id": "n6lemFnF1rlZ",
        "outputId": "5c25759d-fcc2-48bf-ceb1-52c734220086"
      },
      "execution_count": null,
      "outputs": [
        {
          "output_type": "execute_result",
          "data": {
            "text/plain": [
              "<seaborn.axisgrid.JointGrid at 0x7ff2a8ee58d0>"
            ]
          },
          "metadata": {},
          "execution_count": 16
        },
        {
          "output_type": "display_data",
          "data": {
            "text/plain": [
              "<Figure size 432x432 with 3 Axes>"
            ],
            "image/png": "[encoded data removed]"
          },
          "metadata": {
            "needs_background": "light"
          }
        }
      ]
    },
    {
      "cell_type": "code",
      "source": [
        "df.Perch"
      ],
      "metadata": {
        "colab": {
          "base_uri": "https://localhost:8080/",
          "height": 1000
        },
        "id": "9IvpVyw82EZS",
        "outputId": "7ff40749-bd98-4942-f7f2-89ac75f67eaa"
      },
      "execution_count": null,
      "outputs": [
        {
          "output_type": "execute_result",
          "data": {
            "text/plain": [
              "    Species  Weight  Length1  Length2  Length3   Height   Width\n",
              "72    Perch     5.9      7.5      8.4      8.8   2.1120  1.4080\n",
              "73    Perch    32.0     12.5     13.7     14.7   3.5280  1.9992\n",
              "74    Perch    40.0     13.8     15.0     16.0   3.8240  2.4320\n",
              "75    Perch    51.5     15.0     16.2     17.2   4.5924  2.6316\n",
              "76    Perch    70.0     15.7     17.4     18.5   4.5880  2.9415\n",
              "77    Perch   100.0     16.2     18.0     19.2   5.2224  3.3216\n",
              "78    Perch    78.0     16.8     18.7     19.4   5.1992  3.1234\n",
              "79    Perch    80.0     17.2     19.0     20.2   5.6358  3.0502\n",
              "80    Perch    85.0     17.8     19.6     20.8   5.1376  3.0368\n",
              "81    Perch    85.0     18.2     20.0     21.0   5.0820  2.7720\n",
              "82    Perch   110.0     19.0     21.0     22.5   5.6925  3.5550\n",
              "83    Perch   115.0     19.0     21.0     22.5   5.9175  3.3075\n",
              "84    Perch   125.0     19.0     21.0     22.5   5.6925  3.6675\n",
              "85    Perch   130.0     19.3     21.3     22.8   6.3840  3.5340\n",
              "86    Perch   120.0     20.0     22.0     23.5   6.1100  3.4075\n",
              "87    Perch   120.0     20.0     22.0     23.5   5.6400  3.5250\n",
              "88    Perch   130.0     20.0     22.0     23.5   6.1100  3.5250\n",
              "89    Perch   135.0     20.0     22.0     23.5   5.8750  3.5250\n",
              "90    Perch   110.0     20.0     22.0     23.5   5.5225  3.9950\n",
              "91    Perch   130.0     20.5     22.5     24.0   5.8560  3.6240\n",
              "92    Perch   150.0     20.5     22.5     24.0   6.7920  3.6240\n",
              "93    Perch   145.0     20.7     22.7     24.2   5.9532  3.6300\n",
              "94    Perch   150.0     21.0     23.0     24.5   5.2185  3.6260\n",
              "95    Perch   170.0     21.5     23.5     25.0   6.2750  3.7250\n",
              "96    Perch   225.0     22.0     24.0     25.5   7.2930  3.7230\n",
              "97    Perch   145.0     22.0     24.0     25.5   6.3750  3.8250\n",
              "98    Perch   188.0     22.6     24.6     26.2   6.7334  4.1658\n",
              "99    Perch   180.0     23.0     25.0     26.5   6.4395  3.6835\n",
              "100   Perch   197.0     23.5     25.6     27.0   6.5610  4.2390\n",
              "101   Perch   218.0     25.0     26.5     28.0   7.1680  4.1440\n",
              "102   Perch   300.0     25.2     27.3     28.7   8.3230  5.1373\n",
              "103   Perch   260.0     25.4     27.5     28.9   7.1672  4.3350\n",
              "104   Perch   265.0     25.4     27.5     28.9   7.0516  4.3350\n",
              "105   Perch   250.0     25.4     27.5     28.9   7.2828  4.5662\n",
              "106   Perch   250.0     25.9     28.0     29.4   7.8204  4.2042\n",
              "107   Perch   300.0     26.9     28.7     30.1   7.5852  4.6354\n",
              "108   Perch   320.0     27.8     30.0     31.6   7.6156  4.7716\n",
              "109   Perch   514.0     30.5     32.8     34.0  10.0300  6.0180\n",
              "110   Perch   556.0     32.0     34.5     36.5  10.2565  6.3875\n",
              "111   Perch   840.0     32.5     35.0     37.3  11.4884  7.7957\n",
              "112   Perch   685.0     34.0     36.5     39.0  10.8810  6.8640\n",
              "113   Perch   700.0     34.0     36.0     38.3  10.6091  6.7408\n",
              "114   Perch   700.0     34.5     37.0     39.4  10.8350  6.2646\n",
              "115   Perch   690.0     34.6     37.0     39.3  10.5717  6.3666\n",
              "116   Perch   900.0     36.5     39.0     41.4  11.1366  7.4934\n",
              "117   Perch   650.0     36.5     39.0     41.4  11.1366  6.0030\n",
              "118   Perch   820.0     36.6     39.0     41.3  12.4313  7.3514\n",
              "119   Perch   850.0     36.9     40.0     42.3  11.9286  7.1064\n",
              "120   Perch   900.0     37.0     40.0     42.5  11.7300  7.2250\n",
              "121   Perch  1015.0     37.0     40.0     42.4  12.3808  7.4624\n",
              "122   Perch   820.0     37.1     40.0     42.5  11.1350  6.6300\n",
              "123   Perch  1100.0     39.0     42.0     44.6  12.8002  6.8684\n",
              "124   Perch  1000.0     39.8     43.0     45.2  11.9328  7.2772\n",
              "125   Perch  1100.0     40.1     43.0     45.5  12.5125  7.4165\n",
              "126   Perch  1000.0     40.2     43.5     46.0  12.6040  8.1420\n",
              "127   Perch  1000.0     41.1     44.0     46.6  12.4888  7.5958"
            ],
            "text/html": [
              "\n",
              "  <div id=\"df-067a3b37-9406-4427-a905-9f20c216b8f9\">\n",
              "    <div class=\"colab-df-container\">\n",
              "      <div>\n",
              "<style scoped>\n",
              "    .dataframe tbody tr th:only-of-type {\n",
              "        vertical-align: middle;\n",
              "    }\n",
              "\n",
              "    .dataframe tbody tr th {\n",
              "        vertical-align: top;\n",
              "    }\n",
              "\n",
              "    .dataframe thead th {\n",
              "        text-align: right;\n",
              "    }\n",
              "</style>\n",
              "<table border=\"1\" class=\"dataframe\">\n",
              "  <thead>\n",
              "    <tr style=\"text-align: right;\">\n",
              "      <th></th>\n",
              "      <th>Species</th>\n",
              "      <th>Weight</th>\n",
              "      <th>Length1</th>\n",
              "      <th>Length2</th>\n",
              "      <th>Length3</th>\n",
              "      <th>Height</th>\n",
              "      <th>Width</th>\n",
              "    </tr>\n",
              "  </thead>\n",
              "  <tbody>\n",
              "    <tr>\n",
              "      <th>72</th>\n",
              "      <td>Perch</td>\n",
              "      <td>5.9</td>\n",
              "      <td>7.5</td>\n",
              "      <td>8.4</td>\n",
              "      <td>8.8</td>\n",
              "      <td>2.1120</td>\n",
              "      <td>1.4080</td>\n",
              "    </tr>\n",
              "    <tr>\n",
              "      <th>73</th>\n",
              "      <td>Perch</td>\n",
              "      <td>32.0</td>\n",
              "      <td>12.5</td>\n",
              "      <td>13.7</td>\n",
              "      <td>14.7</td>\n",
              "      <td>3.5280</td>\n",
              "      <td>1.9992</td>\n",
              "    </tr>\n",
              "    <tr>\n",
              "      <th>74</th>\n",
              "      <td>Perch</td>\n",
              "      <td>40.0</td>\n",
              "      <td>13.8</td>\n",
              "      <td>15.0</td>\n",
              "      <td>16.0</td>\n",
              "      <td>3.8240</td>\n",
              "      <td>2.4320</td>\n",
              "    </tr>\n",
              "    <tr>\n",
              "      <th>75</th>\n",
              "      <td>Perch</td>\n",
              "      <td>51.5</td>\n",
              "      <td>15.0</td>\n",
              "      <td>16.2</td>\n",
              "      <td>17.2</td>\n",
              "      <td>4.5924</td>\n",
              "      <td>2.6316</td>\n",
              "    </tr>\n",
              "    <tr>\n",
              "      <th>76</th>\n",
              "      <td>Perch</td>\n",
              "      <td>70.0</td>\n",
              "      <td>15.7</td>\n",
              "      <td>17.4</td>\n",
              "      <td>18.5</td>\n",
              "      <td>4.5880</td>\n",
              "      <td>2.9415</td>\n",
              "    </tr>\n",
              "    <tr>\n",
              "      <th>77</th>\n",
              "      <td>Perch</td>\n",
              "      <td>100.0</td>\n",
              "      <td>16.2</td>\n",
              "      <td>18.0</td>\n",
              "      <td>19.2</td>\n",
              "      <td>5.2224</td>\n",
              "      <td>3.3216</td>\n",
              "    </tr>\n",
              "    <tr>\n",
              "      <th>78</th>\n",
              "      <td>Perch</td>\n",
              "      <td>78.0</td>\n",
              "      <td>16.8</td>\n",
              "      <td>18.7</td>\n",
              "      <td>19.4</td>\n",
              "      <td>5.1992</td>\n",
              "      <td>3.1234</td>\n",
              "    </tr>\n",
              "    <tr>\n",
              "      <th>79</th>\n",
              "      <td>Perch</td>\n",
              "      <td>80.0</td>\n",
              "      <td>17.2</td>\n",
              "      <td>19.0</td>\n",
              "      <td>20.2</td>\n",
              "      <td>5.6358</td>\n",
              "      <td>3.0502</td>\n",
              "    </tr>\n",
              "    <tr>\n",
              "      <th>80</th>\n",
              "      <td>Perch</td>\n",
              "      <td>85.0</td>\n",
              "      <td>17.8</td>\n",
              "      <td>19.6</td>\n",
              "      <td>20.8</td>\n",
              "      <td>5.1376</td>\n",
              "      <td>3.0368</td>\n",
              "    </tr>\n",
              "    <tr>\n",
              "      <th>81</th>\n",
              "      <td>Perch</td>\n",
              "      <td>85.0</td>\n",
              "      <td>18.2</td>\n",
              "      <td>20.0</td>\n",
              "      <td>21.0</td>\n",
              "      <td>5.0820</td>\n",
              "      <td>2.7720</td>\n",
              "    </tr>\n",
              "    <tr>\n",
              "      <th>82</th>\n",
              "      <td>Perch</td>\n",
              "      <td>110.0</td>\n",
              "      <td>19.0</td>\n",
              "      <td>21.0</td>\n",
              "      <td>22.5</td>\n",
              "      <td>5.6925</td>\n",
              "      <td>3.5550</td>\n",
              "    </tr>\n",
              "    <tr>\n",
              "      <th>83</th>\n",
              "      <td>Perch</td>\n",
              "      <td>115.0</td>\n",
              "      <td>19.0</td>\n",
              "      <td>21.0</td>\n",
              "      <td>22.5</td>\n",
              "      <td>5.9175</td>\n",
              "      <td>3.3075</td>\n",
              "    </tr>\n",
              "    <tr>\n",
              "      <th>84</th>\n",
              "      <td>Perch</td>\n",
              "      <td>125.0</td>\n",
              "      <td>19.0</td>\n",
              "      <td>21.0</td>\n",
              "      <td>22.5</td>\n",
              "      <td>5.6925</td>\n",
              "      <td>3.6675</td>\n",
              "    </tr>\n",
              "    <tr>\n",
              "      <th>85</th>\n",
              "      <td>Perch</td>\n",
              "      <td>130.0</td>\n",
              "      <td>19.3</td>\n",
              "      <td>21.3</td>\n",
              "      <td>22.8</td>\n",
              "      <td>6.3840</td>\n",
              "      <td>3.5340</td>\n",
              "    </tr>\n",
              "    <tr>\n",
              "      <th>86</th>\n",
              "      <td>Perch</td>\n",
              "      <td>120.0</td>\n",
              "      <td>20.0</td>\n",
              "      <td>22.0</td>\n",
              "      <td>23.5</td>\n",
              "      <td>6.1100</td>\n",
              "      <td>3.4075</td>\n",
              "    </tr>\n",
              "    <tr>\n",
              "      <th>87</th>\n",
              "      <td>Perch</td>\n",
              "      <td>120.0</td>\n",
              "      <td>20.0</td>\n",
              "      <td>22.0</td>\n",
              "      <td>23.5</td>\n",
              "      <td>5.6400</td>\n",
              "      <td>3.5250</td>\n",
              "    </tr>\n",
              "    <tr>\n",
              "      <th>88</th>\n",
              "      <td>Perch</td>\n",
              "      <td>130.0</td>\n",
              "      <td>20.0</td>\n",
              "      <td>22.0</td>\n",
              "      <td>23.5</td>\n",
              "      <td>6.1100</td>\n",
              "      <td>3.5250</td>\n",
              "    </tr>\n",
              "    <tr>\n",
              "      <th>89</th>\n",
              "      <td>Perch</td>\n",
              "      <td>135.0</td>\n",
              "      <td>20.0</td>\n",
              "      <td>22.0</td>\n",
              "      <td>23.5</td>\n",
              "      <td>5.8750</td>\n",
              "      <td>3.5250</td>\n",
              "    </tr>\n",
              "    <tr>\n",
              "      <th>90</th>\n",
              "      <td>Perch</td>\n",
              "      <td>110.0</td>\n",
              "      <td>20.0</td>\n",
              "      <td>22.0</td>\n",
              "      <td>23.5</td>\n",
              "      <td>5.5225</td>\n",
              "      <td>3.9950</td>\n",
              "    </tr>\n",
              "    <tr>\n",
              "      <th>91</th>\n",
              "      <td>Perch</td>\n",
              "      <td>130.0</td>\n",
              "      <td>20.5</td>\n",
              "      <td>22.5</td>\n",
              "      <td>24.0</td>\n",
              "      <td>5.8560</td>\n",
              "      <td>3.6240</td>\n",
              "    </tr>\n",
              "    <tr>\n",
              "      <th>92</th>\n",
              "      <td>Perch</td>\n",
              "      <td>150.0</td>\n",
              "      <td>20.5</td>\n",
              "      <td>22.5</td>\n",
              "      <td>24.0</td>\n",
              "      <td>6.7920</td>\n",
              "      <td>3.6240</td>\n",
              "    </tr>\n",
              "    <tr>\n",
              "      <th>93</th>\n",
              "      <td>Perch</td>\n",
              "      <td>145.0</td>\n",
              "      <td>20.7</td>\n",
              "      <td>22.7</td>\n",
              "      <td>24.2</td>\n",
              "      <td>5.9532</td>\n",
              "      <td>3.6300</td>\n",
              "    </tr>\n",
              "    <tr>\n",
              "      <th>94</th>\n",
              "      <td>Perch</td>\n",
              "      <td>150.0</td>\n",
              "      <td>21.0</td>\n",
              "      <td>23.0</td>\n",
              "      <td>24.5</td>\n",
              "      <td>5.2185</td>\n",
              "      <td>3.6260</td>\n",
              "    </tr>\n",
              "    <tr>\n",
              "      <th>95</th>\n",
              "      <td>Perch</td>\n",
              "      <td>170.0</td>\n",
              "      <td>21.5</td>\n",
              "      <td>23.5</td>\n",
              "      <td>25.0</td>\n",
              "      <td>6.2750</td>\n",
              "      <td>3.7250</td>\n",
              "    </tr>\n",
              "    <tr>\n",
              "      <th>96</th>\n",
              "      <td>Perch</td>\n",
              "      <td>225.0</td>\n",
              "      <td>22.0</td>\n",
              "      <td>24.0</td>\n",
              "      <td>25.5</td>\n",
              "      <td>7.2930</td>\n",
              "      <td>3.7230</td>\n",
              "    </tr>\n",
              "    <tr>\n",
              "      <th>97</th>\n",
              "      <td>Perch</td>\n",
              "      <td>145.0</td>\n",
              "      <td>22.0</td>\n",
              "      <td>24.0</td>\n",
              "      <td>25.5</td>\n",
              "      <td>6.3750</td>\n",
              "      <td>3.8250</td>\n",
              "    </tr>\n",
              "    <tr>\n",
              "      <th>98</th>\n",
              "      <td>Perch</td>\n",
              "      <td>188.0</td>\n",
              "      <td>22.6</td>\n",
              "      <td>24.6</td>\n",
              "      <td>26.2</td>\n",
              "      <td>6.7334</td>\n",
              "      <td>4.1658</td>\n",
              "    </tr>\n",
              "    <tr>\n",
              "      <th>99</th>\n",
              "      <td>Perch</td>\n",
              "      <td>180.0</td>\n",
              "      <td>23.0</td>\n",
              "      <td>25.0</td>\n",
              "      <td>26.5</td>\n",
              "      <td>6.4395</td>\n",
              "      <td>3.6835</td>\n",
              "    </tr>\n",
              "    <tr>\n",
              "      <th>100</th>\n",
              "      <td>Perch</td>\n",
              "      <td>197.0</td>\n",
              "      <td>23.5</td>\n",
              "      <td>25.6</td>\n",
              "      <td>27.0</td>\n",
              "      <td>6.5610</td>\n",
              "      <td>4.2390</td>\n",
              "    </tr>\n",
              "    <tr>\n",
              "      <th>101</th>\n",
              "      <td>Perch</td>\n",
              "      <td>218.0</td>\n",
              "      <td>25.0</td>\n",
              "      <td>26.5</td>\n",
              "      <td>28.0</td>\n",
              "      <td>7.1680</td>\n",
              "      <td>4.1440</td>\n",
              "    </tr>\n",
              "    <tr>\n",
              "      <th>102</th>\n",
              "      <td>Perch</td>\n",
              "      <td>300.0</td>\n",
              "      <td>25.2</td>\n",
              "      <td>27.3</td>\n",
              "      <td>28.7</td>\n",
              "      <td>8.3230</td>\n",
              "      <td>5.1373</td>\n",
              "    </tr>\n",
              "    <tr>\n",
              "      <th>103</th>\n",
              "      <td>Perch</td>\n",
              "      <td>260.0</td>\n",
              "      <td>25.4</td>\n",
              "      <td>27.5</td>\n",
              "      <td>28.9</td>\n",
              "      <td>7.1672</td>\n",
              "      <td>4.3350</td>\n",
              "    </tr>\n",
              "    <tr>\n",
              "      <th>104</th>\n",
              "      <td>Perch</td>\n",
              "      <td>265.0</td>\n",
              "      <td>25.4</td>\n",
              "      <td>27.5</td>\n",
              "      <td>28.9</td>\n",
              "      <td>7.0516</td>\n",
              "      <td>4.3350</td>\n",
              "    </tr>\n",
              "    <tr>\n",
              "      <th>105</th>\n",
              "      <td>Perch</td>\n",
              "      <td>250.0</td>\n",
              "      <td>25.4</td>\n",
              "      <td>27.5</td>\n",
              "      <td>28.9</td>\n",
              "      <td>7.2828</td>\n",
              "      <td>4.5662</td>\n",
              "    </tr>\n",
              "    <tr>\n",
              "      <th>106</th>\n",
              "      <td>Perch</td>\n",
              "      <td>250.0</td>\n",
              "      <td>25.9</td>\n",
              "      <td>28.0</td>\n",
              "      <td>29.4</td>\n",
              "      <td>7.8204</td>\n",
              "      <td>4.2042</td>\n",
              "    </tr>\n",
              "    <tr>\n",
              "      <th>107</th>\n",
              "      <td>Perch</td>\n",
              "      <td>300.0</td>\n",
              "      <td>26.9</td>\n",
              "      <td>28.7</td>\n",
              "      <td>30.1</td>\n",
              "      <td>7.5852</td>\n",
              "      <td>4.6354</td>\n",
              "    </tr>\n",
              "    <tr>\n",
              "      <th>108</th>\n",
              "      <td>Perch</td>\n",
              "      <td>320.0</td>\n",
              "      <td>27.8</td>\n",
              "      <td>30.0</td>\n",
              "      <td>31.6</td>\n",
              "      <td>7.6156</td>\n",
              "      <td>4.7716</td>\n",
              "    </tr>\n",
              "    <tr>\n",
              "      <th>109</th>\n",
              "      <td>Perch</td>\n",
              "      <td>514.0</td>\n",
              "      <td>30.5</td>\n",
              "      <td>32.8</td>\n",
              "      <td>34.0</td>\n",
              "      <td>10.0300</td>\n",
              "      <td>6.0180</td>\n",
              "    </tr>\n",
              "    <tr>\n",
              "      <th>110</th>\n",
              "      <td>Perch</td>\n",
              "      <td>556.0</td>\n",
              "      <td>32.0</td>\n",
              "      <td>34.5</td>\n",
              "      <td>36.5</td>\n",
              "      <td>10.2565</td>\n",
              "      <td>6.3875</td>\n",
              "    </tr>\n",
              "    <tr>\n",
              "      <th>111</th>\n",
              "      <td>Perch</td>\n",
              "      <td>840.0</td>\n",
              "      <td>32.5</td>\n",
              "      <td>35.0</td>\n",
              "      <td>37.3</td>\n",
              "      <td>11.4884</td>\n",
              "      <td>7.7957</td>\n",
              "    </tr>\n",
              "    <tr>\n",
              "      <th>112</th>\n",
              "      <td>Perch</td>\n",
              "      <td>685.0</td>\n",
              "      <td>34.0</td>\n",
              "      <td>36.5</td>\n",
              "      <td>39.0</td>\n",
              "      <td>10.8810</td>\n",
              "      <td>6.8640</td>\n",
              "    </tr>\n",
              "    <tr>\n",
              "      <th>113</th>\n",
              "      <td>Perch</td>\n",
              "      <td>700.0</td>\n",
              "      <td>34.0</td>\n",
              "      <td>36.0</td>\n",
              "      <td>38.3</td>\n",
              "      <td>10.6091</td>\n",
              "      <td>6.7408</td>\n",
              "    </tr>\n",
              "    <tr>\n",
              "      <th>114</th>\n",
              "      <td>Perch</td>\n",
              "      <td>700.0</td>\n",
              "      <td>34.5</td>\n",
              "      <td>37.0</td>\n",
              "      <td>39.4</td>\n",
              "      <td>10.8350</td>\n",
              "      <td>6.2646</td>\n",
              "    </tr>\n",
              "    <tr>\n",
              "      <th>115</th>\n",
              "      <td>Perch</td>\n",
              "      <td>690.0</td>\n",
              "      <td>34.6</td>\n",
              "      <td>37.0</td>\n",
              "      <td>39.3</td>\n",
              "      <td>10.5717</td>\n",
              "      <td>6.3666</td>\n",
              "    </tr>\n",
              "    <tr>\n",
              "      <th>116</th>\n",
              "      <td>Perch</td>\n",
              "      <td>900.0</td>\n",
              "      <td>36.5</td>\n",
              "      <td>39.0</td>\n",
              "      <td>41.4</td>\n",
              "      <td>11.1366</td>\n",
              "      <td>7.4934</td>\n",
              "    </tr>\n",
              "    <tr>\n",
              "      <th>117</th>\n",
              "      <td>Perch</td>\n",
              "      <td>650.0</td>\n",
              "      <td>36.5</td>\n",
              "      <td>39.0</td>\n",
              "      <td>41.4</td>\n",
              "      <td>11.1366</td>\n",
              "      <td>6.0030</td>\n",
              "    </tr>\n",
              "    <tr>\n",
              "      <th>118</th>\n",
              "      <td>Perch</td>\n",
              "      <td>820.0</td>\n",
              "      <td>36.6</td>\n",
              "      <td>39.0</td>\n",
              "      <td>41.3</td>\n",
              "      <td>12.4313</td>\n",
              "      <td>7.3514</td>\n",
              "    </tr>\n",
              "    <tr>\n",
              "      <th>119</th>\n",
              "      <td>Perch</td>\n",
              "      <td>850.0</td>\n",
              "      <td>36.9</td>\n",
              "      <td>40.0</td>\n",
              "      <td>42.3</td>\n",
              "      <td>11.9286</td>\n",
              "      <td>7.1064</td>\n",
              "    </tr>\n",
              "    <tr>\n",
              "      <th>120</th>\n",
              "      <td>Perch</td>\n",
              "      <td>900.0</td>\n",
              "      <td>37.0</td>\n",
              "      <td>40.0</td>\n",
              "      <td>42.5</td>\n",
              "      <td>11.7300</td>\n",
              "      <td>7.2250</td>\n",
              "    </tr>\n",
              "    <tr>\n",
              "      <th>121</th>\n",
              "      <td>Perch</td>\n",
              "      <td>1015.0</td>\n",
              "      <td>37.0</td>\n",
              "      <td>40.0</td>\n",
              "      <td>42.4</td>\n",
              "      <td>12.3808</td>\n",
              "      <td>7.4624</td>\n",
              "    </tr>\n",
              "    <tr>\n",
              "      <th>122</th>\n",
              "      <td>Perch</td>\n",
              "      <td>820.0</td>\n",
              "      <td>37.1</td>\n",
              "      <td>40.0</td>\n",
              "      <td>42.5</td>\n",
              "      <td>11.1350</td>\n",
              "      <td>6.6300</td>\n",
              "    </tr>\n",
              "    <tr>\n",
              "      <th>123</th>\n",
              "      <td>Perch</td>\n",
              "      <td>1100.0</td>\n",
              "      <td>39.0</td>\n",
              "      <td>42.0</td>\n",
              "      <td>44.6</td>\n",
              "      <td>12.8002</td>\n",
              "      <td>6.8684</td>\n",
              "    </tr>\n",
              "    <tr>\n",
              "      <th>124</th>\n",
              "      <td>Perch</td>\n",
              "      <td>1000.0</td>\n",
              "      <td>39.8</td>\n",
              "      <td>43.0</td>\n",
              "      <td>45.2</td>\n",
              "      <td>11.9328</td>\n",
              "      <td>7.2772</td>\n",
              "    </tr>\n",
              "    <tr>\n",
              "      <th>125</th>\n",
              "      <td>Perch</td>\n",
              "      <td>1100.0</td>\n",
              "      <td>40.1</td>\n",
              "      <td>43.0</td>\n",
              "      <td>45.5</td>\n",
              "      <td>12.5125</td>\n",
              "      <td>7.4165</td>\n",
              "    </tr>\n",
              "    <tr>\n",
              "      <th>126</th>\n",
              "      <td>Perch</td>\n",
              "      <td>1000.0</td>\n",
              "      <td>40.2</td>\n",
              "      <td>43.5</td>\n",
              "      <td>46.0</td>\n",
              "      <td>12.6040</td>\n",
              "      <td>8.1420</td>\n",
              "    </tr>\n",
              "    <tr>\n",
              "      <th>127</th>\n",
              "      <td>Perch</td>\n",
              "      <td>1000.0</td>\n",
              "      <td>41.1</td>\n",
              "      <td>44.0</td>\n",
              "      <td>46.6</td>\n",
              "      <td>12.4888</td>\n",
              "      <td>7.5958</td>\n",
              "    </tr>\n",
              "  </tbody>\n",
              "</table>\n",
              "</div>\n",
              "      <button class=\"colab-df-convert\" onclick=\"convertToInteractive('df-067a3b37-9406-4427-a905-9f20c216b8f9')\"\n",
              "              title=\"Convert this dataframe to an interactive table.\"\n",
              "              style=\"display:none;\">\n",
              "        \n",
              "  <svg xmlns=\"http://www.w3.org/2000/svg\" height=\"24px\"viewBox=\"0 0 24 24\"\n",
              "       width=\"24px\">\n",
              "    <path d=\"M0 0h24v24H0V0z\" fill=\"none\"/>\n",
              "    <path d=\"M18.56 5.44l.94 2.06.94-2.06 2.06-.94-2.06-.94-.94-2.06-.94 2.06-2.06.94zm-11 1L8.5 8.5l.94-2.06 2.06-.94-2.06-.94L8.5 2.5l-.94 2.06-2.06.94zm10 10l.94 2.06.94-2.06 2.06-.94-2.06-.94-.94-2.06-.94 2.06-2.06.94z\"/><path d=\"M17.41 7.96l-1.37-1.37c-.4-.4-.92-.59-1.43-.59-.52 0-1.04.2-1.43.59L10.3 9.45l-7.72 7.72c-.78.78-.78 2.05 0 2.83L4 21.41c.39.39.9.59 1.41.59.51 0 1.02-.2 1.41-.59l7.78-7.78 2.81-2.81c.8-.78.8-2.07 0-2.86zM5.41 20L4 18.59l7.72-7.72 1.47 1.35L5.41 20z\"/>\n",
              "  </svg>\n",
              "      </button>\n",
              "      \n",
              "  <style>\n",
              "    .colab-df-container {\n",
              "      display:flex;\n",
              "      flex-wrap:wrap;\n",
              "      gap: 12px;\n",
              "    }\n",
              "\n",
              "    .colab-df-convert {\n",
              "      background-color: #E8F0FE;\n",
              "      border: none;\n",
              "      border-radius: 50%;\n",
              "      cursor: pointer;\n",
              "      display: none;\n",
              "      fill: #1967D2;\n",
              "      height: 32px;\n",
              "      padding: 0 0 0 0;\n",
              "      width: 32px;\n",
              "    }\n",
              "\n",
              "    .colab-df-convert:hover {\n",
              "      background-color: #E2EBFA;\n",
              "      box-shadow: 0px 1px 2px rgba(60, 64, 67, 0.3), 0px 1px 3px 1px rgba(60, 64, 67, 0.15);\n",
              "      fill: #174EA6;\n",
              "    }\n",
              "\n",
              "    [theme=dark] .colab-df-convert {\n",
              "      background-color: #3B4455;\n",
              "      fill: #D2E3FC;\n",
              "    }\n",
              "\n",
              "    [theme=dark] .colab-df-convert:hover {\n",
              "      background-color: #434B5C;\n",
              "      box-shadow: 0px 1px 3px 1px rgba(0, 0, 0, 0.15);\n",
              "      filter: drop-shadow(0px 1px 2px rgba(0, 0, 0, 0.3));\n",
              "      fill: #FFFFFF;\n",
              "    }\n",
              "  </style>\n",
              "\n",
              "      <script>\n",
              "        const buttonEl =\n",
              "          document.querySelector('#df-067a3b37-9406-4427-a905-9f20c216b8f9 button.colab-df-convert');\n",
              "        buttonEl.style.display =\n",
              "          google.colab.kernel.accessAllowed ? 'block' : 'none';\n",
              "\n",
              "        async function convertToInteractive(key) {\n",
              "          const element = document.querySelector('#df-067a3b37-9406-4427-a905-9f20c216b8f9');\n",
              "          const dataTable =\n",
              "            await google.colab.kernel.invokeFunction('convertToInteractive',\n",
              "                                                     [key], {});\n",
              "          if (!dataTable) return;\n",
              "\n",
              "          const docLinkHtml = 'Like what you see? Visit the ' +\n",
              "            '<a target=\"_blank\" href=https://colab.research.google.com/notebooks/data_table.ipynb>data table notebook</a>'\n",
              "            + ' to learn more about interactive tables.';\n",
              "          element.innerHTML = '';\n",
              "          dataTable['output_type'] = 'display_data';\n",
              "          await google.colab.output.renderOutput(dataTable, element);\n",
              "          const docLink = document.createElement('div');\n",
              "          docLink.innerHTML = docLinkHtml;\n",
              "          element.appendChild(docLink);\n",
              "        }\n",
              "      </script>\n",
              "    </div>\n",
              "  </div>\n",
              "  "
            ]
          },
          "metadata": {},
          "execution_count": 17
        }
      ]
    },
    {
      "cell_type": "markdown",
      "source": [
        "# 훈련 데이터 나누기"
      ],
      "metadata": {
        "id": "K5URw42SYrOy"
      }
    },
    {
      "cell_type": "code",
      "source": [
        "from sklearn.model_selection import train_test_split\n",
        "train_input,  test_input, train_target, test_target = train_test_split(X, y, test_size=0.3, random_state=42)"
      ],
      "metadata": {
        "id": "tWuXnDCB9srm"
      },
      "execution_count": null,
      "outputs": []
    },
    {
      "cell_type": "markdown",
      "source": [
        "# 다중 회귀"
      ],
      "metadata": {
        "id": "-x3Pjp-WYwiD"
      }
    },
    {
      "cell_type": "code",
      "source": [
        "from sklearn.preprocessing import PolynomialFeatures\n",
        "\n",
        "poly_features = PolynomialFeatures(degree=4, include_bias=False)\n",
        "poly_features.fit(train_input)\n",
        "\n",
        "train_poly = poly_features.transform(train_input)\n",
        "test_poly = poly_features.transform(test_input)"
      ],
      "metadata": {
        "id": "4Ao3GGHpX8CL"
      },
      "execution_count": null,
      "outputs": []
    },
    {
      "cell_type": "code",
      "source": [
        "print(train_poly.shape)"
      ],
      "metadata": {
        "colab": {
          "base_uri": "https://localhost:8080/"
        },
        "id": "zsOLroCfvZAZ",
        "outputId": "9f401861-4967-4424-c1ee-51713f036842"
      },
      "execution_count": null,
      "outputs": [
        {
          "output_type": "stream",
          "name": "stdout",
          "text": [
            "(111, 125)\n"
          ]
        }
      ]
    },
    {
      "cell_type": "markdown",
      "source": [
        "## 모델 훈련"
      ],
      "metadata": {
        "id": "aXEHpRYbY1wI"
      }
    },
    {
      "cell_type": "code",
      "source": [
        "from sklearn.linear_model import LinearRegression\n",
        "\n",
        "lr = LinearRegression()\n",
        "\n",
        "lr.fit(train_poly, train_target)\n",
        "print(lr.score(train_poly, train_target))\n",
        "\n",
        "y_predict=lr.predict(train_poly)"
      ],
      "metadata": {
        "colab": {
          "base_uri": "https://localhost:8080/"
        },
        "id": "CRcpS2xuYFTs",
        "outputId": "f024fa3d-768f-4745-d595-9459cc1e7724"
      },
      "execution_count": null,
      "outputs": [
        {
          "output_type": "stream",
          "name": "stdout",
          "text": [
            "0.9999129824077905\n"
          ]
        }
      ]
    },
    {
      "cell_type": "code",
      "source": [
        "print(lr.score(test_poly, test_target))"
      ],
      "metadata": {
        "colab": {
          "base_uri": "https://localhost:8080/"
        },
        "id": "zMaCR986w31M",
        "outputId": "867f9bab-4ea4-4b40-dedc-88913e9c6552"
      },
      "execution_count": null,
      "outputs": [
        {
          "output_type": "stream",
          "name": "stdout",
          "text": [
            "-31.60953204076064\n"
          ]
        }
      ]
    },
    {
      "cell_type": "code",
      "source": [
        "poly_features.get_feature_names_out()"
      ],
      "metadata": {
        "id": "MQrJ3f2q6Lmj",
        "outputId": "d5eb8927-bf85-473b-9a23-e1eb68ae2097",
        "colab": {
          "base_uri": "https://localhost:8080/"
        }
      },
      "execution_count": null,
      "outputs": [
        {
          "output_type": "execute_result",
          "data": {
            "text/plain": [
              "array(['Length1', 'Length2', 'Length3', 'Height', 'Width', 'Length1^2',\n",
              "       'Length1 Length2', 'Length1 Length3', 'Length1 Height',\n",
              "       'Length1 Width', 'Length2^2', 'Length2 Length3', 'Length2 Height',\n",
              "       'Length2 Width', 'Length3^2', 'Length3 Height', 'Length3 Width',\n",
              "       'Height^2', 'Height Width', 'Width^2', 'Length1^3',\n",
              "       'Length1^2 Length2', 'Length1^2 Length3', 'Length1^2 Height',\n",
              "       'Length1^2 Width', 'Length1 Length2^2', 'Length1 Length2 Length3',\n",
              "       'Length1 Length2 Height', 'Length1 Length2 Width',\n",
              "       'Length1 Length3^2', 'Length1 Length3 Height',\n",
              "       'Length1 Length3 Width', 'Length1 Height^2',\n",
              "       'Length1 Height Width', 'Length1 Width^2', 'Length2^3',\n",
              "       'Length2^2 Length3', 'Length2^2 Height', 'Length2^2 Width',\n",
              "       'Length2 Length3^2', 'Length2 Length3 Height',\n",
              "       'Length2 Length3 Width', 'Length2 Height^2',\n",
              "       'Length2 Height Width', 'Length2 Width^2', 'Length3^3',\n",
              "       'Length3^2 Height', 'Length3^2 Width', 'Length3 Height^2',\n",
              "       'Length3 Height Width', 'Length3 Width^2', 'Height^3',\n",
              "       'Height^2 Width', 'Height Width^2', 'Width^3', 'Length1^4',\n",
              "       'Length1^3 Length2', 'Length1^3 Length3', 'Length1^3 Height',\n",
              "       'Length1^3 Width', 'Length1^2 Length2^2',\n",
              "       'Length1^2 Length2 Length3', 'Length1^2 Length2 Height',\n",
              "       'Length1^2 Length2 Width', 'Length1^2 Length3^2',\n",
              "       'Length1^2 Length3 Height', 'Length1^2 Length3 Width',\n",
              "       'Length1^2 Height^2', 'Length1^2 Height Width',\n",
              "       'Length1^2 Width^2', 'Length1 Length2^3',\n",
              "       'Length1 Length2^2 Length3', 'Length1 Length2^2 Height',\n",
              "       'Length1 Length2^2 Width', 'Length1 Length2 Length3^2',\n",
              "       'Length1 Length2 Length3 Height', 'Length1 Length2 Length3 Width',\n",
              "       'Length1 Length2 Height^2', 'Length1 Length2 Height Width',\n",
              "       'Length1 Length2 Width^2', 'Length1 Length3^3',\n",
              "       'Length1 Length3^2 Height', 'Length1 Length3^2 Width',\n",
              "       'Length1 Length3 Height^2', 'Length1 Length3 Height Width',\n",
              "       'Length1 Length3 Width^2', 'Length1 Height^3',\n",
              "       'Length1 Height^2 Width', 'Length1 Height Width^2',\n",
              "       'Length1 Width^3', 'Length2^4', 'Length2^3 Length3',\n",
              "       'Length2^3 Height', 'Length2^3 Width', 'Length2^2 Length3^2',\n",
              "       'Length2^2 Length3 Height', 'Length2^2 Length3 Width',\n",
              "       'Length2^2 Height^2', 'Length2^2 Height Width',\n",
              "       'Length2^2 Width^2', 'Length2 Length3^3',\n",
              "       'Length2 Length3^2 Height', 'Length2 Length3^2 Width',\n",
              "       'Length2 Length3 Height^2', 'Length2 Length3 Height Width',\n",
              "       'Length2 Length3 Width^2', 'Length2 Height^3',\n",
              "       'Length2 Height^2 Width', 'Length2 Height Width^2',\n",
              "       'Length2 Width^3', 'Length3^4', 'Length3^3 Height',\n",
              "       'Length3^3 Width', 'Length3^2 Height^2', 'Length3^2 Height Width',\n",
              "       'Length3^2 Width^2', 'Length3 Height^3', 'Length3 Height^2 Width',\n",
              "       'Length3 Height Width^2', 'Length3 Width^3', 'Height^4',\n",
              "       'Height^3 Width', 'Height^2 Width^2', 'Height Width^3', 'Width^4'],\n",
              "      dtype=object)"
            ]
          },
          "metadata": {},
          "execution_count": 43
        }
      ]
    },
    {
      "cell_type": "markdown",
      "source": [
        "# 규제"
      ],
      "metadata": {
        "id": "10JZ4DEsYkcS"
      }
    },
    {
      "cell_type": "markdown",
      "source": [
        "## 릿지"
      ],
      "metadata": {
        "id": "VF_7lOmiZBKU"
      }
    },
    {
      "cell_type": "code",
      "source": [
        "# from sklearn.preprocessing import StandardScaler\n",
        "\n",
        "# ss = StandardScaler()\n",
        "# ss.fit(train_poly)\n",
        "\n",
        "# train_scaled = ss.transform(train_poly)\n",
        "# test_scaled = ss.transform(test_poly)"
      ],
      "metadata": {
        "id": "SqDGIauGZD1Z"
      },
      "execution_count": null,
      "outputs": []
    },
    {
      "cell_type": "code",
      "source": [
        "train_scaled = train_poly\n",
        "test_scaled = test_poly"
      ],
      "metadata": {
        "id": "y-NO8d7j81J6"
      },
      "execution_count": null,
      "outputs": []
    },
    {
      "cell_type": "code",
      "source": [
        "from sklearn.linear_model import Ridge\n",
        "\n",
        "ridge = Ridge()\n",
        "ridge.fit(train_scaled, train_target)\n",
        "print(ridge.score(train_scaled, train_target))"
      ],
      "metadata": {
        "colab": {
          "base_uri": "https://localhost:8080/"
        },
        "id": "GEGHhDH5ZE06",
        "outputId": "055c8178-9cae-46b4-a6c6-c2122e63a14e"
      },
      "execution_count": null,
      "outputs": [
        {
          "output_type": "stream",
          "name": "stdout",
          "text": [
            "0.9967753105624617\n"
          ]
        },
        {
          "output_type": "stream",
          "name": "stderr",
          "text": [
            "/usr/local/lib/python3.7/dist-packages/sklearn/linear_model/_ridge.py:194: LinAlgWarning: Ill-conditioned matrix (rcond=8.64321e-18): result may not be accurate.\n",
            "  dual_coef = linalg.solve(K, y, sym_pos=True, overwrite_a=False)\n"
          ]
        }
      ]
    },
    {
      "cell_type": "code",
      "source": [
        "print(ridge.score(test_scaled, test_target))"
      ],
      "metadata": {
        "colab": {
          "base_uri": "https://localhost:8080/"
        },
        "id": "3h9ephpiZFgD",
        "outputId": "3bdd96f5-fe66-4291-fddb-a5f6797deb66"
      },
      "execution_count": null,
      "outputs": [
        {
          "output_type": "stream",
          "name": "stdout",
          "text": [
            "0.8302283243561398\n"
          ]
        }
      ]
    },
    {
      "cell_type": "code",
      "source": [
        "import matplotlib.pyplot as plt\n",
        "\n",
        "train_score = []\n",
        "test_score = []"
      ],
      "metadata": {
        "id": "W51a4q_lZGSD"
      },
      "execution_count": null,
      "outputs": []
    },
    {
      "cell_type": "code",
      "source": [
        "alpha_list = [0.001, 0.01, 0.1, 1, 10, 100]\n",
        "for alpha in alpha_list:\n",
        "    # 릿지 모델을 만듭니다\n",
        "    ridge = Ridge(alpha=alpha)\n",
        "    # 릿지 모델을 훈련합니다\n",
        "    ridge.fit(train_scaled, train_target)\n",
        "    # 훈련 점수와 테스트 점수를 저장합니다\n",
        "    train_score.append(ridge.score(train_scaled, train_target))\n",
        "    test_score.append(ridge.score(test_scaled, test_target))"
      ],
      "metadata": {
        "id": "tXF4l6CCZRpv",
        "colab": {
          "base_uri": "https://localhost:8080/"
        },
        "outputId": "10677ddc-0096-4100-beff-aad2784ee502"
      },
      "execution_count": null,
      "outputs": [
        {
          "output_type": "stream",
          "name": "stderr",
          "text": [
            "/usr/local/lib/python3.7/dist-packages/sklearn/linear_model/_ridge.py:197: UserWarning: Singular matrix in solving dual problem. Using least-squares solution instead.\n",
            "  \"Singular matrix in solving dual problem. Using \"\n",
            "/usr/local/lib/python3.7/dist-packages/sklearn/linear_model/_ridge.py:197: UserWarning: Singular matrix in solving dual problem. Using least-squares solution instead.\n",
            "  \"Singular matrix in solving dual problem. Using \"\n",
            "/usr/local/lib/python3.7/dist-packages/sklearn/linear_model/_ridge.py:197: UserWarning: Singular matrix in solving dual problem. Using least-squares solution instead.\n",
            "  \"Singular matrix in solving dual problem. Using \"\n",
            "/usr/local/lib/python3.7/dist-packages/sklearn/linear_model/_ridge.py:194: LinAlgWarning: Ill-conditioned matrix (rcond=8.64321e-18): result may not be accurate.\n",
            "  dual_coef = linalg.solve(K, y, sym_pos=True, overwrite_a=False)\n",
            "/usr/local/lib/python3.7/dist-packages/sklearn/linear_model/_ridge.py:194: LinAlgWarning: Ill-conditioned matrix (rcond=9.79627e-17): result may not be accurate.\n",
            "  dual_coef = linalg.solve(K, y, sym_pos=True, overwrite_a=False)\n"
          ]
        }
      ]
    },
    {
      "cell_type": "code",
      "source": [
        "plt.plot(np.log10(alpha_list), train_score)\n",
        "plt.plot(np.log10(alpha_list), test_score)\n",
        "plt.xlabel('alpha')\n",
        "plt.ylabel('R^2')\n",
        "plt.show()"
      ],
      "metadata": {
        "colab": {
          "base_uri": "https://localhost:8080/",
          "height": 279
        },
        "id": "HETBD41zZSXa",
        "outputId": "8fe464db-053b-428f-f279-67412fac9c70"
      },
      "execution_count": null,
      "outputs": [
        {
          "output_type": "display_data",
          "data": {
            "text/plain": [
              "<Figure size 432x288 with 1 Axes>"
            ],
            "image/png": "[encoded data removed]"
          },
          "metadata": {
            "needs_background": "light"
          }
        }
      ]
    },
    {
      "cell_type": "code",
      "source": [
        "ridge.n_features_in_"
      ],
      "metadata": {
        "colab": {
          "base_uri": "https://localhost:8080/"
        },
        "id": "BOAJP02iVev2",
        "outputId": "4140dafd-b58b-457b-a9c6-d6d8fb1f2c80"
      },
      "execution_count": null,
      "outputs": [
        {
          "output_type": "execute_result",
          "data": {
            "text/plain": [
              "125"
            ]
          },
          "metadata": {},
          "execution_count": 51
        }
      ]
    },
    {
      "cell_type": "code",
      "source": [
        "ridge = Ridge(alpha=100)\n",
        "ridge.fit(train_scaled, train_target)\n",
        "\n",
        "print(ridge.score(train_scaled, train_target))\n",
        "print(ridge.score(test_scaled, test_target))"
      ],
      "metadata": {
        "colab": {
          "base_uri": "https://localhost:8080/"
        },
        "id": "lGRbLrmUZTUB",
        "outputId": "8f89a265-ac93-4e25-aab2-59075a6ba0c0"
      },
      "execution_count": null,
      "outputs": [
        {
          "output_type": "stream",
          "name": "stdout",
          "text": [
            "0.9944605505726757\n",
            "0.9655577774589096\n"
          ]
        }
      ]
    },
    {
      "cell_type": "markdown",
      "source": [
        "# 라쏘"
      ],
      "metadata": {
        "id": "MpJ105nWZKfz"
      }
    },
    {
      "cell_type": "code",
      "source": [
        "from sklearn.linear_model import Lasso\n",
        "\n",
        "lasso = Lasso()\n",
        "lasso.fit(train_scaled, train_target)\n",
        "print(lasso.score(train_scaled, train_target))"
      ],
      "metadata": {
        "colab": {
          "base_uri": "https://localhost:8080/"
        },
        "id": "NbsDhn-1ZXlh",
        "outputId": "95b9ada5-973f-494b-d979-bb7dd0db7b3c"
      },
      "execution_count": null,
      "outputs": [
        {
          "output_type": "stream",
          "name": "stdout",
          "text": [
            "0.9879373711956826\n"
          ]
        },
        {
          "output_type": "stream",
          "name": "stderr",
          "text": [
            "/usr/local/lib/python3.7/dist-packages/sklearn/linear_model/_coordinate_descent.py:648: ConvergenceWarning: Objective did not converge. You might want to increase the number of iterations, check the scale of the features or consider increasing regularisation. Duality gap: 9.017e+04, tolerance: 1.436e+03\n",
            "  coef_, l1_reg, l2_reg, X, y, max_iter, tol, rng, random, positive\n"
          ]
        }
      ]
    },
    {
      "cell_type": "code",
      "source": [
        "print(lasso.score(test_scaled, test_target))"
      ],
      "metadata": {
        "colab": {
          "base_uri": "https://localhost:8080/"
        },
        "id": "24GqALScZYo5",
        "outputId": "b298b663-2fd4-4f85-e64b-f1b418070261"
      },
      "execution_count": null,
      "outputs": [
        {
          "output_type": "stream",
          "name": "stdout",
          "text": [
            "0.9715999705177056\n"
          ]
        }
      ]
    },
    {
      "cell_type": "code",
      "source": [
        "train_score = []\n",
        "test_score = []\n",
        "\n",
        "alpha_list = [0.001, 0.01, 0.1, 1, 10, 100]\n",
        "for alpha in alpha_list:\n",
        "    # 라쏘 모델을 만듭니다\n",
        "    lasso = Lasso(alpha=alpha, max_iter=10000)\n",
        "    # 라쏘 모델을 훈련합니다\n",
        "    lasso.fit(train_scaled, train_target)\n",
        "    # 훈련 점수와 테스트 점수를 저장합니다\n",
        "    train_score.append(lasso.score(train_scaled, train_target))\n",
        "    test_score.append(lasso.score(test_scaled, test_target))"
      ],
      "metadata": {
        "colab": {
          "base_uri": "https://localhost:8080/"
        },
        "id": "bBhQ-5R7ZZkR",
        "outputId": "e23f4c7c-9f51-4ad3-ef7a-efe8c0961874"
      },
      "execution_count": null,
      "outputs": [
        {
          "output_type": "stream",
          "name": "stderr",
          "text": [
            "/usr/local/lib/python3.7/dist-packages/sklearn/linear_model/_coordinate_descent.py:648: ConvergenceWarning: Objective did not converge. You might want to increase the number of iterations, check the scale of the features or consider increasing regularisation. Duality gap: 7.016e+04, tolerance: 1.436e+03\n",
            "  coef_, l1_reg, l2_reg, X, y, max_iter, tol, rng, random, positive\n",
            "/usr/local/lib/python3.7/dist-packages/sklearn/linear_model/_coordinate_descent.py:648: ConvergenceWarning: Objective did not converge. You might want to increase the number of iterations, check the scale of the features or consider increasing regularisation. Duality gap: 7.026e+04, tolerance: 1.436e+03\n",
            "  coef_, l1_reg, l2_reg, X, y, max_iter, tol, rng, random, positive\n",
            "/usr/local/lib/python3.7/dist-packages/sklearn/linear_model/_coordinate_descent.py:648: ConvergenceWarning: Objective did not converge. You might want to increase the number of iterations, check the scale of the features or consider increasing regularisation. Duality gap: 7.092e+04, tolerance: 1.436e+03\n",
            "  coef_, l1_reg, l2_reg, X, y, max_iter, tol, rng, random, positive\n",
            "/usr/local/lib/python3.7/dist-packages/sklearn/linear_model/_coordinate_descent.py:648: ConvergenceWarning: Objective did not converge. You might want to increase the number of iterations, check the scale of the features or consider increasing regularisation. Duality gap: 7.326e+04, tolerance: 1.436e+03\n",
            "  coef_, l1_reg, l2_reg, X, y, max_iter, tol, rng, random, positive\n",
            "/usr/local/lib/python3.7/dist-packages/sklearn/linear_model/_coordinate_descent.py:648: ConvergenceWarning: Objective did not converge. You might want to increase the number of iterations, check the scale of the features or consider increasing regularisation. Duality gap: 7.520e+04, tolerance: 1.436e+03\n",
            "  coef_, l1_reg, l2_reg, X, y, max_iter, tol, rng, random, positive\n",
            "/usr/local/lib/python3.7/dist-packages/sklearn/linear_model/_coordinate_descent.py:648: ConvergenceWarning: Objective did not converge. You might want to increase the number of iterations, check the scale of the features or consider increasing regularisation. Duality gap: 8.300e+04, tolerance: 1.436e+03\n",
            "  coef_, l1_reg, l2_reg, X, y, max_iter, tol, rng, random, positive\n"
          ]
        }
      ]
    },
    {
      "cell_type": "code",
      "source": [
        "plt.plot(np.log10(alpha_list), train_score)\n",
        "plt.plot(np.log10(alpha_list), test_score)\n",
        "plt.xlabel('alpha')\n",
        "plt.ylabel('R^2')\n",
        "plt.show()"
      ],
      "metadata": {
        "colab": {
          "base_uri": "https://localhost:8080/",
          "height": 279
        },
        "id": "M5ZKV7RdZaap",
        "outputId": "f816dad7-1fe9-4272-f4ca-db7e24246183"
      },
      "execution_count": null,
      "outputs": [
        {
          "output_type": "display_data",
          "data": {
            "text/plain": [
              "<Figure size 432x288 with 1 Axes>"
            ],
            "image/png": "[encoded data removed]"
          },
          "metadata": {
            "needs_background": "light"
          }
        }
      ]
    },
    {
      "cell_type": "code",
      "source": [
        "lasso = Lasso(alpha=10)\n",
        "lasso.fit(train_scaled, train_target)\n",
        "\n",
        "print(lasso.score(train_scaled, train_target))\n",
        "print(lasso.score(test_scaled, test_target))"
      ],
      "metadata": {
        "colab": {
          "base_uri": "https://localhost:8080/"
        },
        "id": "ToxkJDnKjTVM",
        "outputId": "76692aa7-9f9c-4706-9ba8-bf3ece0ff094"
      },
      "execution_count": null,
      "outputs": [
        {
          "output_type": "stream",
          "name": "stdout",
          "text": [
            "0.9875556896158739\n",
            "0.969991950729853\n"
          ]
        },
        {
          "output_type": "stream",
          "name": "stderr",
          "text": [
            "/usr/local/lib/python3.7/dist-packages/sklearn/linear_model/_coordinate_descent.py:648: ConvergenceWarning: Objective did not converge. You might want to increase the number of iterations, check the scale of the features or consider increasing regularisation. Duality gap: 9.166e+04, tolerance: 1.436e+03\n",
            "  coef_, l1_reg, l2_reg, X, y, max_iter, tol, rng, random, positive\n"
          ]
        }
      ]
    },
    {
      "cell_type": "code",
      "source": [
        "print(np.sum(lasso.coef_ == 0))"
      ],
      "metadata": {
        "colab": {
          "base_uri": "https://localhost:8080/"
        },
        "id": "h1hNGFGUZbDi",
        "outputId": "33c6fbfe-9312-4ae6-9e41-63271a107bca"
      },
      "execution_count": null,
      "outputs": [
        {
          "output_type": "stream",
          "name": "stdout",
          "text": [
            "10\n"
          ]
        }
      ]
    }
  ]
}